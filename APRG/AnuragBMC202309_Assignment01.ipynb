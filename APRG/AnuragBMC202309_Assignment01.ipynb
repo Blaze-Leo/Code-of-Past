{
 "cells": [
  {
   "cell_type": "markdown",
   "metadata": {},
   "source": [
    "Reads a file and returns the contents of the file in a dict format where the key is the line number and the value is the line in form of a string."
   ]
  },
  {
   "cell_type": "code",
   "execution_count": 2,
   "metadata": {},
   "outputs": [],
   "source": [
    "def read_file(filename: str) -> dict:\n",
    "\n",
    "    '''\n",
    "    Reads a file and returns the contents of the file in a dict format where the key is the line number and the value is the line in form of a string.\n",
    "    '''\n",
    "    \n",
    "    with open(filename, 'r', encoding='utf -8') as file:\n",
    "        file_list = file.readlines()\n",
    "        contents = {}\n",
    "        for i in range(0, len(file_list)):\n",
    "            contents[i] = file_list[i]\n",
    "        return contents"
   ]
  },
  {
   "cell_type": "markdown",
   "metadata": {},
   "source": [
    "Takes a dict and returns the dict value as a list of the line sperated as individual words."
   ]
  },
  {
   "cell_type": "code",
   "execution_count": 3,
   "metadata": {},
   "outputs": [],
   "source": [
    "def line_to_words(lines: dict) -> dict:\n",
    "\n",
    "    '''\n",
    "    Takes a dict and returns the dict value as a list of the line sperated as individual words.\n",
    "    '''\n",
    "    \n",
    "    for i in range(0, len(lines)):\n",
    "        lis = lines.get(i).split(' ')\n",
    "        j = 0\n",
    "        while (j < len(lis)):\n",
    "            if lis[j] == '':\n",
    "                lis.pop(j)\n",
    "                j -= 1\n",
    "            j += 1\n",
    "        lines[i] = lis\n",
    "    return lines"
   ]
  },
  {
   "cell_type": "markdown",
   "metadata": {},
   "source": [
    "Takes the dict and returns the dict value list elements with the trailing '/n' removed"
   ]
  },
  {
   "cell_type": "code",
   "execution_count": 4,
   "metadata": {},
   "outputs": [],
   "source": [
    "def remove_enter(lines: dict) -> dict:\n",
    "\n",
    "    '''\n",
    "    Takes the dict and returns the dict value list elements with the trailing '/n' removed\n",
    "    '''\n",
    "    \n",
    "    for i in range(0, len(lines)):\n",
    "        lis = lines.get(i)\n",
    "        lis[-1] = lis[-1][:-1] if lis[-1][-1] == '\\n' else lis[-1]\n",
    "        lines[i] = lis\n",
    "    return lines"
   ]
  },
  {
   "cell_type": "markdown",
   "metadata": {},
   "source": [
    "Takes a string and returns boolean value depending upon its a valid financial object or not in the format of Rs. 3847.82 crores satisfying\n",
    " \n",
    "/[Rr][sS][.][ ][0-9][0-9]*([,][0-9][0-9]*)*?([.][0-9][0-9]*?)?[ ][cC][rR][oO][rR][eE][sS]?/"
   ]
  },
  {
   "cell_type": "code",
   "execution_count": 5,
   "metadata": {},
   "outputs": [],
   "source": [
    "def is_financial_object(input_string: str) -> bool:\n",
    "\n",
    "    '''\n",
    "    Takes a string and returns boolean value depending upon its a valid financial object or not in the format of Rs. 3847.82 crores satisfying\n",
    "    \n",
    "    /[Rr][sS][.][ ][0-9][0-9]*([,][0-9][0-9]*)*?([.][0-9][0-9]*?)?[ ][cC][rR][oO][rR][eE][sS]?/\n",
    "    '''\n",
    "\n",
    "    reg = {\n",
    "        ('q0', 'r'): 'q1', ('q0', 'R'): 'q1',\n",
    "        ('q1', 's'): 'q2', ('q1', 'S'): 'q2',\n",
    "        ('q2', '.'): 'q3',\n",
    "        ('q3', ' '): 'q4',\n",
    "        ('q4', '0'): 'q5', ('q4', '1'): 'q5', ('q4', '2'): 'q5', ('q4', '3'): 'q5', ('q4', '4'): 'q5', ('q4', '5'): 'q5', ('q4', '6'): 'q5', ('q4', '7'): 'q5', ('q4', '8'): 'q5', ('q4', '9'): 'q5',\n",
    "        ('q5', '0'): 'q5', ('q5', '1'): 'q5', ('q5', '2'): 'q5', ('q5', '3'): 'q5', ('q5', '4'): 'q5', ('q5', '5'): 'q5', ('q5', '6'): 'q5', ('q5', '7'): 'q5', ('q5', '8'): 'q5', ('q5', '9'): 'q5', ('q5', ','): 'q4',\n",
    "        ('q5', ' '): 'q8',\n",
    "        ('q5', '.'): 'q6',\n",
    "        ('q6', '0'): 'q7', ('q6', '1'): 'q7', ('q6', '2'): 'q7', ('q6', '3'): 'q7', ('q6', '4'): 'q7', ('q6', '5'): 'q7', ('q6', '6'): 'q7', ('q6', '7'): 'q7', ('q6', '8'): 'q7', ('q6', '9'): 'q7',\n",
    "        ('q7', '0'): 'q7', ('q7', '1'): 'q7', ('q7', '2'): 'q7', ('q7', '3'): 'q7', ('q7', '4'): 'q7', ('q7', '5'): 'q7', ('q7', '6'): 'q7', ('q7', '7'): 'q7', ('q7', '8'): 'q7', ('q7', '9'): 'q7',\n",
    "        ('q7', ' '): 'q8',\n",
    "        ('q8', 'c'): 'q9', ('q8', 'C'): 'q9',\n",
    "        ('q9', 'r'): 'q10', ('q9', 'R'): 'q10',\n",
    "        ('q10', 'o'): 'q11', ('q10', 'O'): 'q11',\n",
    "        ('q11', 'r'): 'q12', ('q11', 'R'): 'q12',\n",
    "        ('q12', 'e'): 'q13', ('q12', 'E'): 'q13',\n",
    "        ('q13', 's'): 'q13', ('q8', 'S'): 'q13',\n",
    "    }\n",
    "\n",
    "    state = state = 'q0'\n",
    "\n",
    "    for i in input_string:\n",
    "        state = reg.get((state, i))\n",
    "        if (state == None):\n",
    "            return False\n",
    "\n",
    "    accepted_state = 'q13'\n",
    "\n",
    "    accepted = state == accepted_state\n",
    "    return accepted"
   ]
  },
  {
   "cell_type": "markdown",
   "metadata": {},
   "source": [
    "Stores the finanacial object in a dictionary in the given format."
   ]
  },
  {
   "cell_type": "code",
   "execution_count": 6,
   "metadata": {},
   "outputs": [],
   "source": [
    "def fo_to_dict (input_string:str) -> dict:\n",
    "\n",
    "    '''\n",
    "    Stores the finanacial object in a dictionary in the given format.\n",
    "    '''\n",
    "    \n",
    "    input_string = input_string[4:]\n",
    "    input_string = input_string[:-7] if input_string[-1]=='s' or input_string[-1]=='S' else input_string[:-6]\n",
    "    input_string=input_string.replace(',','')\n",
    "    return {'Currency Code': 'Rs', 'Amount': eval(input_string), 'Scale Factor': 'Crore'}\n",
    "    "
   ]
  },
  {
   "cell_type": "markdown",
   "metadata": {},
   "source": [
    "Creates final data structure as the dictionary long with the line number and the line containing the text."
   ]
  },
  {
   "cell_type": "code",
   "execution_count": 7,
   "metadata": {},
   "outputs": [],
   "source": [
    "def words_and_fo(lines:dict) -> dict:\n",
    "\n",
    "    '''\n",
    "    Creates final data structure as the dictionary long with the line number and the line containing the text.\n",
    "    '''\n",
    "    \n",
    "    out={0:2}\n",
    "    for i in lines:\n",
    "        words=lines.get(i)\n",
    "        out[i]={}\n",
    "        out[i]['words']=words\n",
    "        for j in range(0,len(words)-2):\n",
    "            check=words[j]+\" \"+words[j+1]+\" \"+words[j+2]\n",
    "            if is_financial_object(check):\n",
    "                out[i]['FO']=fo_to_dict(check)\n",
    "    return out"
   ]
  },
  {
   "cell_type": "markdown",
   "metadata": {},
   "source": [
    "The main function to coordinate all tasks to display the output dict in the given format."
   ]
  },
  {
   "cell_type": "code",
   "execution_count": null,
   "metadata": {},
   "outputs": [],
   "source": [
    "fo_dict=words_and_fo(remove_enter(line_to_words(read_file(\"budget_speech.txt\"))))\n",
    "\n",
    "'''\n",
    "The main function to coordinate all tasks to display the output dict in the given format.\n",
    "'''\n",
    "\n",
    "if __name__ == '__main__':\n",
    "    print (len(fo_dict))\n",
    "    print (fo_dict)"
   ]
  }
 ],
 "metadata": {
  "kernelspec": {
   "display_name": "Python 3",
   "language": "python",
   "name": "python3"
  },
  "language_info": {
   "codemirror_mode": {
    "name": "ipython",
    "version": 3
   },
   "file_extension": ".py",
   "mimetype": "text/x-python",
   "name": "python",
   "nbconvert_exporter": "python",
   "pygments_lexer": "ipython3",
   "version": "3.11.6"
  }
 },
 "nbformat": 4,
 "nbformat_minor": 2
}
