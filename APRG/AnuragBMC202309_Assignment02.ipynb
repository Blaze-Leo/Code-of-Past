{
 "cells": [
  {
   "cell_type": "markdown",
   "metadata": {},
   "source": [
    "The Deque class controlling the deque containing the playlist."
   ]
  },
  {
   "cell_type": "code",
   "execution_count": 2,
   "metadata": {},
   "outputs": [],
   "source": [
    "import collections\n",
    "\n",
    "class Deque:\n",
    "    def __init__(self):\n",
    "        self.data = collections.deque([])\n",
    "\n",
    "    def insert(self, item, location='front'):\n",
    "        if location == 'front':\n",
    "            self.data.appendleft(item)\n",
    "        elif location == 'back':\n",
    "            self.data.append(item)\n",
    "\n",
    "    def delete(self, location='front'):\n",
    "        try:\n",
    "            if location == 'front':\n",
    "                return self.data.popleft()\n",
    "            elif location == 'back':\n",
    "                return self.data.pop()\n",
    "        except Exception as e:\n",
    "            print(e)\n",
    "\n",
    "    def is_empty(self):\n",
    "        return len(self.data) == 0\n",
    "\n",
    "    def size(self):\n",
    "        return len(self.data)\n",
    "\n",
    "    def peek(self, location='front'):\n",
    "        try:\n",
    "            if location == 'front':\n",
    "                return self.data[0]\n",
    "            elif location == 'back':\n",
    "                return self.data[-1]\n",
    "        except Exception as e:\n",
    "            print(e)"
   ]
  },
  {
   "cell_type": "markdown",
   "metadata": {},
   "source": [
    "The Song class containing the attributes of a song as a Song object as a element in the playlist."
   ]
  },
  {
   "cell_type": "code",
   "execution_count": 3,
   "metadata": {},
   "outputs": [],
   "source": [
    "class Song:\n",
    "    def __init__(self , album_name , song_name , artist):\n",
    "        self.album_name=album_name\n",
    "        self.song_name=song_name\n",
    "        self.artist=artist\n",
    "    def __str__(self):\n",
    "        return f\"Album: {self.album_name}, Song: {self.song_name}, Artist: {self.artist }\"\n"
   ]
  },
  {
   "cell_type": "markdown",
   "metadata": {},
   "source": [
    "The Playlist class controlling the previous to classes to ssimulate playing a playlist."
   ]
  },
  {
   "cell_type": "code",
   "execution_count": 4,
   "metadata": {},
   "outputs": [],
   "source": [
    "from os import remove\n",
    "\n",
    "\n",
    "class Playlist:\n",
    "    def __init__(self):\n",
    "        self.playlist = Deque()\n",
    "\n",
    "    def add_song(self, song):\n",
    "        self.playlist.insert(song, 'back')\n",
    "\n",
    "    def remove_song(self, song):\n",
    "        s=str(song)\n",
    "        for x in self.playlist.data:\n",
    "            if(str(x)==s):\n",
    "                self.playlist.data.remove(x)\n",
    "                return\n",
    "\n",
    "    def play_current_song(self):\n",
    "        print(self.playlist.peek('front'))\n",
    "\n",
    "    def play_next_song(self):\n",
    "        self.playlist.insert(self.playlist.delete('front'), 'back')\n",
    "        self.play_current_song()\n",
    "\n",
    "    def play_previous_song(self):\n",
    "        self.playlist.insert(self.playlist.delete('back'), 'front')\n",
    "        self.play_current_song()\n",
    "\n",
    "    def is_empty(self):\n",
    "        return self.playlist.is_empty()\n",
    "\n",
    "    def get_current_song_info(self):\n",
    "        return str(self.playlist.peek('front'))\n",
    "\n",
    "    def print(self):\n",
    "        for s in self.playlist.data:\n",
    "            print (f\"Album: {s.album_name:<8}, Song: {s.song_name:<8}, Artist: {s.artist:<8}\")\n",
    "\n",
    "    def get_all_songs_info(self):\n",
    "        y = [print(i) for i in self.playlist.data]"
   ]
  },
  {
   "cell_type": "markdown",
   "metadata": {},
   "source": [
    "Demo use of function"
   ]
  },
  {
   "cell_type": "code",
   "execution_count": 7,
   "metadata": {},
   "outputs": [
    {
     "name": "stdout",
     "output_type": "stream",
     "text": [
      "Album: Thriller, Song: Billie Jean, Artist: Michael Jackson\n",
      "Album: Dark Side of the Moon, Song: Money, Artist: Pink Floyd\n",
      "Album: Rumours, Song: Go Your Own Way, Artist: Fleetwood Mac\n",
      "Album: Back in Black, Song: You Shook Me All Night Long, Artist: AC/DC\n",
      "Album: Abbey Road, Song: Here Comes the Sun, Artist: The Beatles\n",
      "\n",
      "\n",
      "\n",
      "Album: Thriller, Song: Billie Jean, Artist: Michael Jackson\n",
      "Album: Dark Side of the Moon, Song: Money, Artist: Pink Floyd\n",
      "Album: Rumours, Song: Go Your Own Way, Artist: Fleetwood Mac\n",
      "Album: Abbey Road, Song: Here Comes the Sun, Artist: The Beatles\n",
      "\n",
      "\n",
      "\n",
      "Album: Thriller, Song: Billie Jean, Artist: Michael Jackson\n",
      "\n",
      "\n",
      "\n",
      "Album: Dark Side of the Moon, Song: Money, Artist: Pink Floyd\n",
      "\n",
      "\n",
      "\n",
      "Album: Thriller, Song: Billie Jean, Artist: Michael Jackson\n",
      "\n",
      "\n",
      "\n",
      "\n",
      "\n",
      "\n",
      "\n",
      "\n",
      "\n",
      "Album: Thriller, Song: Billie Jean, Artist: Michael Jackson\n",
      "Album: Dark Side of the Moon, Song: Money   , Artist: Pink Floyd\n",
      "Album: Rumours , Song: Go Your Own Way, Artist: Fleetwood Mac\n",
      "Album: Abbey Road, Song: Here Comes the Sun, Artist: The Beatles\n"
     ]
    }
   ],
   "source": [
    "p=Playlist()\n",
    "p.add_song(Song(\"Thriller\", \"Billie Jean\", \"Michael Jackson\"))\n",
    "p.add_song(Song(\"Dark Side of the Moon\", \"Money\", \"Pink Floyd\"))\n",
    "p.add_song(Song(\"Rumours\", \"Go Your Own Way\", \"Fleetwood Mac\"))\n",
    "p.add_song(Song(\"Back in Black\", \"You Shook Me All Night Long\", \"AC/DC\"))\n",
    "p.add_song(Song(\"Abbey Road\", \"Here Comes the Sun\", \"The Beatles\"))\n",
    "p.get_all_songs_info()\n",
    "print(\"\\n\\n\")\n",
    "p.remove_song(Song(\"Back in Black\", \"You Shook Me All Night Long\", \"AC/DC\"))\n",
    "p.get_all_songs_info()\n",
    "print(\"\\n\\n\")\n",
    "p.play_current_song()\n",
    "print(\"\\n\\n\")\n",
    "p.play_next_song()\n",
    "print(\"\\n\\n\")\n",
    "p.play_previous_song()\n",
    "print(\"\\n\\n\")\n",
    "p.is_empty()\n",
    "print(\"\\n\\n\")\n",
    "p.get_current_song_info()\n",
    "print(\"\\n\\n\")\n",
    "p.print()"
   ]
  }
 ],
 "metadata": {
  "kernelspec": {
   "display_name": "Python 3",
   "language": "python",
   "name": "python3"
  },
  "language_info": {
   "codemirror_mode": {
    "name": "ipython",
    "version": 3
   },
   "file_extension": ".py",
   "mimetype": "text/x-python",
   "name": "python",
   "nbconvert_exporter": "python",
   "pygments_lexer": "ipython3",
   "version": "3.11.6"
  }
 },
 "nbformat": 4,
 "nbformat_minor": 2
}
