{
 "cells": [
  {
   "cell_type": "markdown",
   "metadata": {},
   "source": [
    "Imports"
   ]
  },
  {
   "cell_type": "code",
   "execution_count": 1,
   "metadata": {},
   "outputs": [
    {
     "name": "stderr",
     "output_type": "stream",
     "text": [
      "[nltk_data] Downloading package punkt to /home/anurag/nltk_data...\n",
      "[nltk_data]   Package punkt is already up-to-date!\n"
     ]
    },
    {
     "data": {
      "text/plain": [
       "True"
      ]
     },
     "execution_count": 1,
     "metadata": {},
     "output_type": "execute_result"
    }
   ],
   "source": [
    "import multiprocessing\n",
    "from wiki_dump_reader import Cleaner , iterate\n",
    "from tqdm import tqdm\n",
    "import numpy as np\n",
    "import multiprocessing\n",
    "import nltk\n",
    "from collections import Counter, defaultdict\n",
    "from nltk import ngrams, word_tokenize\n",
    "nltk.download('punkt')\n",
    "\n"
   ]
  },
  {
   "cell_type": "code",
   "execution_count": 2,
   "metadata": {},
   "outputs": [],
   "source": [
    "import time\n",
    "\n",
    "def runtime(func):\n",
    "\tdef wrapper(*args, **kwargs):\n",
    "\t\tstart_time = time.time()\n",
    "\t\tresult = func(*args, **kwargs)\n",
    "\t\tend_time = time.time()\n",
    "\t\tprint(f\"Time taken by {func.__name__}: {end_time - start_time} seconds\")\n",
    "\t\treturn result\n",
    "\treturn wrapper\n",
    "\n"
   ]
  },
  {
   "cell_type": "code",
   "execution_count": 3,
   "metadata": {},
   "outputs": [],
   "source": [
    "def memory_location(func):\n",
    "\tdef wrapper(*args, **kwargs):\n",
    "\t\tprint(f\"Location of {func.__name__}: {id(func)}\")\n",
    "\t\treturn func(*args, **kwargs)\n",
    "\treturn wrapper\n"
   ]
  },
  {
   "cell_type": "markdown",
   "metadata": {},
   "source": [
    "Corpus Create"
   ]
  },
  {
   "cell_type": "code",
   "execution_count": 4,
   "metadata": {},
   "outputs": [],
   "source": [
    "@runtime\n",
    "@memory_location\n",
    "def create_corpus():\n",
    "\tcorpus_file = 'Hindi_Corpus.txt'\n",
    "\tcorpus_limit = 232729\n",
    "\tpage_count = 0\n",
    "\tcleaner = Cleaner()  # Assuming Cleaner class is imported or defined elsewhere.\n",
    "\t\n",
    "\t# Open the output file for writing\n",
    "\twith open(corpus_file, 'w', encoding='utf-8') as output:\n",
    "\t\tbar = tqdm(total=corpus_limit)  # Initialize the progress bar\n",
    "\t\tfor title, text in iterate('hiwiki-latest-pages-articles.xml'):  \n",
    "\t\t\ttext = cleaner.clean_text(text)\n",
    "\t\t\tcleaned_text, _ = cleaner.build_links(text)\n",
    "\t\t\toutput.write(title + '\\n' + cleaned_text + '\\n')\n",
    "\t\t\tpage_count += 1\n",
    "\t\t\tif page_count % 1000 == 0:\n",
    "\t\t\t\tbar.update(1000)  # Update progress bar every 1000 pages\n",
    "\t\tbar.close() \n",
    "\t\toutput.close()  # Close the output file\n",
    "\tprint(f\"\\nPage count = {page_count}\")  # Print total page count after processing\n",
    "\n"
   ]
  },
  {
   "cell_type": "markdown",
   "metadata": {},
   "source": [
    "Preprocessing"
   ]
  },
  {
   "cell_type": "code",
   "execution_count": 5,
   "metadata": {},
   "outputs": [],
   "source": [
    "\n",
    "def remove_stop_words(string):\n",
    "\t\n",
    "\twith open('stopwords.txt', 'r', encoding='utf-8') as stop:\n",
    "\t\ty = stop.readlines()\n",
    "\tstop_words = []\n",
    "\tfor element in y:\n",
    "\t\telement = element.strip('\\n')\n",
    "\t\tstop_words.extend(element.split(' '))\n",
    "\t\t\n",
    "\tl = string.split()  \n",
    "\treturn_list = []\n",
    "\tfor x in l:\n",
    "\t\tif x not in stop_words:  \n",
    "\t\t\treturn_list.append(x) \n",
    "\treturn ' '.join(return_list) \n",
    "\n",
    "\n",
    "import re\n",
    "\n",
    "def remove_foreign(x):\n",
    "\tstring = x.split(' ')  \n",
    "\ts1 = [(re.compile(r'[\\u0901-\\u0939\\u093C-\\u094D\\u0950-\\u0954\\u0958-\\u0963\\u097B-\\u097F]')).findall(s) for s in string]\n",
    "\ts2 = [''.join(s) for s in s1] \n",
    "\ts3 = ' '.join(s2) \n",
    "\treturn s3  \n",
    "\n",
    "\n",
    "@runtime\n",
    "@memory_location\n",
    "def pre(source, destination):\n",
    "\tline_count = 0\n",
    "\twith open(source, 'r', encoding='utf-8') as input:\n",
    "\t\twith open(destination, 'w', encoding='utf-8') as output:\n",
    "\t\t\tbar = tqdm(total=5000000) \n",
    "\t\t\tfor line in input:\n",
    "\t\t\t\tstring = line.replace('\\n', '')\n",
    "\t\t\t\tstring = remove_foreign(string)\n",
    "\t\t\t\tstring = remove_stop_words(string)\n",
    "\t\t\t\toutput.write(string)\n",
    "\t\t\t\tline_count += 1\n",
    "\t\t\t\tif line_count % 10000 == 0:\n",
    "\t\t\t\t\tbar.update(10000)  \n",
    "\t\t\tbar.close()\n",
    "\n"
   ]
  },
  {
   "cell_type": "code",
   "execution_count": null,
   "metadata": {},
   "outputs": [],
   "source": [
    "pre('Hindi_Corpus.txt', 'ProcessedCorpus.txt')"
   ]
  },
  {
   "cell_type": "markdown",
   "metadata": {},
   "source": [
    "Working on reduced Corpus"
   ]
  },
  {
   "cell_type": "code",
   "execution_count": 6,
   "metadata": {},
   "outputs": [],
   "source": [
    "def minimize_pre(so,de):\n",
    "\ti=10000\n",
    "\twith open(so, 'r',encoding=\"utf-8\") as sor:\n",
    "\t\twith open(de, 'w',encoding=\"utf-8\") as des:\n",
    "\t\t\t\tfor line in sor:\n",
    "\t\t\t\t\tdes.write(line[:(len(line))//i])\n",
    "\n",
    "minimize_pre(\"ProcessedCorpus (copy).txt\", \"ProcessedCorpus.txt\")"
   ]
  },
  {
   "cell_type": "code",
   "execution_count": 7,
   "metadata": {},
   "outputs": [],
   "source": [
    "from collections import Counter\n",
    "\n",
    "min_vocab=0\n",
    "\n",
    "def list_of_words():\n",
    "\twith open('ProcessedCorpus.txt', 'r', encoding='utf-8') as r:\n",
    "\t\ttext = r.read().split()\n",
    "\tword_counts = Counter(text)\n",
    "\ttext = [word for word in tqdm(text) if word_counts[word] > min_vocab]  \n",
    "\treturn text\n",
    "\n",
    "def gen_distinct_vocab():\n",
    "\twith open('ProcessedCorpus.txt', 'r', encoding='utf-8') as r:\n",
    "\t\ttext = r.read().split()\n",
    "\t\tcounter = Counter(text)\n",
    "\t\treduced_vocab = [item for item, count in counter.items() if count > min_vocab]\n",
    "\t\ttext_set = set(reduced_vocab)\n",
    "\t\tglobal vocabulary_size\n",
    "\t\tvocabulary_size = len(text_set)\n",
    "\treturn list(text_set)\n"
   ]
  },
  {
   "cell_type": "code",
   "execution_count": 8,
   "metadata": {},
   "outputs": [
    {
     "name": "stderr",
     "output_type": "stream",
     "text": [
      "100%|██████████| 3944/3944 [00:00<00:00, 3387046.47it/s]\n"
     ]
    }
   ],
   "source": [
    "\n",
    "global words_list\n",
    "words_list=list_of_words()"
   ]
  },
  {
   "cell_type": "markdown",
   "metadata": {},
   "source": [
    "Printing total number of tokens and vocabulary\n"
   ]
  },
  {
   "cell_type": "code",
   "execution_count": 9,
   "metadata": {},
   "outputs": [],
   "source": [
    "vocab=gen_distinct_vocab()\n",
    "vocabulary_size = len(vocab)\n",
    "tokens = word_tokenize(' '.join(words_list))\n",
    "grams = ngrams(tokens, 6)"
   ]
  },
  {
   "cell_type": "code",
   "execution_count": 10,
   "metadata": {},
   "outputs": [
    {
     "name": "stdout",
     "output_type": "stream",
     "text": [
      "Number of tokens is:  3944\n",
      "Size of the vocabulary:  1774\n"
     ]
    }
   ],
   "source": [
    "print(\"Number of tokens is: \", len(tokens))\n",
    "print(\"Size of the vocabulary: \", vocabulary_size)\n"
   ]
  },
  {
   "cell_type": "code",
   "execution_count": 13,
   "metadata": {},
   "outputs": [
    {
     "name": "stdout",
     "output_type": "stream",
     "text": [
      "Location of create_matrix: 129247443228352\n"
     ]
    },
    {
     "name": "stderr",
     "output_type": "stream",
     "text": [
      "3939it [00:00, 5422.43it/s]"
     ]
    },
    {
     "name": "stdout",
     "output_type": "stream",
     "text": [
      "Time taken by wrapper: 0.7289161682128906 seconds\n"
     ]
    },
    {
     "name": "stderr",
     "output_type": "stream",
     "text": [
      "\n"
     ]
    }
   ],
   "source": [
    "\n",
    "cocrmat = np.zeros((len(vocab),len(vocab)),dtype=np.int64)\n",
    "\n",
    "@runtime\n",
    "@memory_location\n",
    "def create_matrix():\n",
    "\t\n",
    "\tramp=[0,1,2,3,4,5]\n",
    "\n",
    "\tfor gram in tqdm(grams):\n",
    "\n",
    "\t\tx=list(gram)\n",
    "\n",
    "\t\tif x[0] in vocab:\n",
    "\t\t\tfor i in range(1,len(x)):\n",
    "\t\t\t\tif x[i] in vocab:\n",
    "\t\t\t\t\tcocrmat[vocab.index(x[0])][vocab.index(x[i])] += 5-ramp[i]\n",
    "\t\t\t\t\t\n",
    "\t\tx.reverse()\n",
    "\t\n",
    "\t\tif x[0] in vocab:\n",
    "\t\t\tfor i in range(1,len(x)):\n",
    "\t\t\t\tif x[i] in vocab:\n",
    "\t\t\t\t\tcocrmat[vocab.index(x[0])][vocab.index(x[i])] += 5-ramp[i]\n",
    "\t\t\n",
    "create_matrix()\n"
   ]
  },
  {
   "cell_type": "code",
   "execution_count": 14,
   "metadata": {},
   "outputs": [],
   "source": [
    "import math\n",
    "from tqdm import tqdm\n",
    "\n",
    "@runtime\n",
    "@memory_location\n",
    "def calculate_probability(matrix):\n",
    "\t\n",
    "\trow_sums = np.sum(matrix, axis=1)\n",
    "\tcol_sums = np.sum(matrix, axis=0)\n",
    "\n",
    "\tN = np.sum(matrix)\n",
    "\n",
    "\tif(N==0):\n",
    "\t\treturn 0,0\n",
    "\n",
    "\tglobal pi,pj\n",
    "\n",
    "\tpi = row_sums / N\n",
    "\tpj = col_sums / N\n",
    "\n",
    " \n",
    " \n",
    "@runtime\n",
    "@memory_location\n",
    "def gen_ppmi_matrix(matrix):\n",
    "\tco_occurrence_matrix=matrix\n",
    " \n",
    "\tppmi = np.zeros((len(vocab), len(vocab)))\n",
    "\n",
    "\trow_sums = np.sum(co_occurrence_matrix, axis=1)\n",
    "\tfor i in tqdm(range(len(vocab))):\n",
    "\t\tfor j in range(len(vocab)):\n",
    "\n",
    "\t\t\tif (row_sums[i] == 0 or co_occurrence_matrix[i][j] == 0):\n",
    "\t\t\t\tppmi[i][j] = 0\n",
    "\t\t\t\tcontinue\n",
    "\t\t\tpij = ((co_occurrence_matrix[i][j]))/row_sums[i]\n",
    "\t\t\tppmi[i][j] = max(0, math.log2(pij/(pi[i]*pj[j])))\n",
    "\n",
    "\treturn ppmi\n"
   ]
  },
  {
   "cell_type": "code",
   "execution_count": 15,
   "metadata": {},
   "outputs": [
    {
     "name": "stdout",
     "output_type": "stream",
     "text": [
      "Location of calculate_probability: 129247443227872\n",
      "Time taken by wrapper: 0.009210586547851562 seconds\n",
      "Location of gen_ppmi_matrix: 129247584307296\n"
     ]
    },
    {
     "name": "stderr",
     "output_type": "stream",
     "text": [
      "100%|██████████| 1774/1774 [00:01<00:00, 1659.90it/s]"
     ]
    },
    {
     "name": "stdout",
     "output_type": "stream",
     "text": [
      "Time taken by wrapper: 1.0741322040557861 seconds\n"
     ]
    },
    {
     "name": "stderr",
     "output_type": "stream",
     "text": [
      "\n"
     ]
    }
   ],
   "source": [
    "calculate_probability(cocrmat)\n",
    "ppmi_matrix=gen_ppmi_matrix(cocrmat)\n"
   ]
  },
  {
   "cell_type": "markdown",
   "metadata": {},
   "source": [
    "Finding 10 most common nouns"
   ]
  },
  {
   "cell_type": "code",
   "execution_count": 22,
   "metadata": {},
   "outputs": [
    {
     "name": "stderr",
     "output_type": "stream",
     "text": [
      "100%|██████████| 3944/3944 [00:00<00:00, 3489207.97it/s]"
     ]
    },
    {
     "name": "stdout",
     "output_type": "stream",
     "text": [
      "['हिन्दी', 'ॐ', 'भाषा', 'नमः', 'लिपि', 'देवनागरी', 'रूप', 'शब्द', 'संस्कृत', 'विनायकाय']\n"
     ]
    },
    {
     "name": "stderr",
     "output_type": "stream",
     "text": [
      "\n"
     ]
    }
   ],
   "source": [
    "from collections import Counter\n",
    "\n",
    "counter = Counter(list_of_words())\n",
    "common_elements = counter.most_common(10)\n",
    "most_common_elements=[a for (a,_) in common_elements]\n",
    "print(most_common_elements)"
   ]
  },
  {
   "cell_type": "markdown",
   "metadata": {},
   "source": [
    "Implementing and printing the top ten nearest neighbour dictionary. (Without Multiprocessing)"
   ]
  },
  {
   "cell_type": "code",
   "execution_count": 26,
   "metadata": {},
   "outputs": [
    {
     "name": "stdout",
     "output_type": "stream",
     "text": [
      "Location of nearest_seq: 129247384780000\n"
     ]
    },
    {
     "name": "stderr",
     "output_type": "stream",
     "text": [
      "100%|██████████| 1773/1773 [00:01<00:00, 1505.06it/s]\n",
      "100%|██████████| 1773/1773 [00:01<00:00, 1670.54it/s]\n",
      "100%|██████████| 1773/1773 [00:01<00:00, 1647.37it/s]\n",
      "100%|██████████| 1773/1773 [00:01<00:00, 1588.97it/s]\n",
      "100%|██████████| 1773/1773 [00:01<00:00, 1651.83it/s]\n",
      "100%|██████████| 1773/1773 [00:01<00:00, 1664.42it/s]\n",
      "100%|██████████| 1773/1773 [00:01<00:00, 1658.14it/s]\n",
      "100%|██████████| 1773/1773 [00:01<00:00, 999.76it/s]\n",
      "100%|██████████| 1773/1773 [00:01<00:00, 1162.80it/s]\n",
      "100%|██████████| 1773/1773 [00:01<00:00, 1307.76it/s]\n",
      "100%|██████████| 10/10 [00:12<00:00,  1.24s/it]"
     ]
    },
    {
     "name": "stdout",
     "output_type": "stream",
     "text": [
      "Time taken by wrapper: 12.395121335983276 seconds\n",
      "Words similar to  हिन्दी  :\n",
      "   भाषा  :  0.34723963996011337\n",
      "   भारत  :  0.339430608696483\n",
      "   रूप  :  0.30548409260065607\n",
      "   उर्दू  :  0.300078744109324\n",
      "   भारतीय  :  0.28783740082753745\n",
      "   प्रयोग  :  0.26181813474453075\n",
      "   भाषाओं  :  0.2580177115873143\n",
      "   राजभाषा  :  0.2507951138853613\n",
      "   लोगों  :  0.24454747975284472\n",
      "   संख्या  :  0.24381054880907818\n",
      "   आधुनिक  :  0.23801912610557582\n",
      "Words similar to  ॐ  :\n",
      "   नमः  :  0.8331027179229086\n",
      "   सिद्धि  :  0.6230561905579799\n",
      "   विनायकाय  :  0.6204863570166664\n",
      "   समर्पयामि  :  0.5894912204663977\n",
      "   श्री  :  0.4178855280895735\n",
      "   पूजयामि  :  0.3810011342724255\n",
      "   महा  :  0.36825941601983075\n",
      "   विघ्न  :  0.3414698632101067\n",
      "   पुष्पं  :  0.3383239111668998\n",
      "   दन्ताय  :  0.3306362704857525\n",
      "   राजाय  :  0.31982842044205595\n",
      "Words similar to  भाषा  :\n",
      "   रूप  :  0.3920582355010141\n",
      "   हिन्दी  :  0.34723963996011337\n",
      "   अरबी  :  0.2604790313453316\n",
      "   उर्दू  :  0.25425497320377005\n",
      "   भारत  :  0.25274238623553785\n",
      "   विश्व  :  0.24686043157160145\n",
      "   प्रयोग  :  0.2465544142757765\n",
      "   वाली  :  0.24629187347461845\n",
      "   शब्द  :  0.24609328764723645\n",
      "   फ़ारसी  :  0.24508262713913218\n",
      "   हिन्दुस्तानी  :  0.23946960749885407\n",
      "Words similar to  नमः  :\n",
      "   ॐ  :  0.8331027179229086\n",
      "   विनायकाय  :  0.6805377149868886\n",
      "   सिद्धि  :  0.6325960057970619\n",
      "   समर्पयामि  :  0.5895384851957848\n",
      "   पूजयामि  :  0.3969740814957259\n",
      "   पुष्पं  :  0.3953502467193703\n",
      "   विघ्न  :  0.36287348691979454\n",
      "   दन्ताय  :  0.35072552779754734\n",
      "   राजाय  :  0.3364445371786785\n",
      "   पत्रम्  :  0.33420827834741595\n",
      "   पूजां  :  0.3269986294136795\n",
      "Words similar to  लिपि  :\n",
      "   देवनागरी  :  0.4982598593624942\n",
      "   लिपियों  :  0.3239334271931236\n",
      "   लिखा  :  0.3140677581926813\n",
      "   नागरी  :  0.3035265743838318\n",
      "   ब्राह्मी  :  0.2965829659403721\n",
      "   अक्षरात्मक  :  0.2719680506923448\n",
      "   शताब्दी  :  0.26013969767385536\n",
      "   सबसे  :  0.25527176055896433\n",
      "   नहीं  :  0.24745732669985343\n",
      "   अंकित  :  0.2412678683433289\n",
      "   अवस्था  :  0.2375638441816878\n",
      "Words similar to  देवनागरी  :\n",
      "   लिपि  :  0.4982598593624942\n",
      "   अंकित  :  0.3460913963885234\n",
      "   सिक्कों  :  0.30112247417668275\n",
      "   शताब्दी  :  0.2845991020769628\n",
      "   राजा  :  0.266729876668257\n",
      "   व्यवहार  :  0.25853457758576603\n",
      "   लिखने  :  0.2475463403568545\n",
      "   नागरी  :  0.24654507887822566\n",
      "   लेख  :  0.24530830600452047\n",
      "   लिपियों  :  0.24528545064163235\n",
      "   प्रथम  :  0.24285774391310957\n",
      "Words similar to  रूप  :\n",
      "   भाषा  :  0.3920582355010141\n",
      "   हिन्दी  :  0.30548409260065607\n",
      "   उर्दू  :  0.24837523885258012\n",
      "   शब्द  :  0.23082574464453617\n",
      "   मानकीकृत  :  0.22662918033262547\n",
      "   प्रयोग  :  0.2224424159834183\n",
      "   अरबी  :  0.21434661850423178\n",
      "   निम्न  :  0.21035550141835366\n",
      "   विश्व  :  0.20832442366647172\n",
      "   उपमहाद्वीप  :  0.20698840850717448\n",
      "   लिपि  :  0.20204226442006518\n",
      "Words similar to  शब्द  :\n",
      "   संस्कृत  :  0.32248638257810386\n",
      "   अर्थ  :  0.3088800785927619\n",
      "   बना  :  0.27963978650425764\n",
      "   फ़ारसीअरबी  :  0.2636373883859005\n",
      "   भाषा  :  0.24609328764723645\n",
      "   अरबी  :  0.24494908147634065\n",
      "   देशज  :  0.24399477157058094\n",
      "   उर्दू  :  0.23955908171615634\n",
      "   शब्दों  :  0.2394758812683741\n",
      "   सिन्धु  :  0.23925087630437109\n",
      "   रूप  :  0.23082574464453617\n",
      "Words similar to  संस्कृत  :\n",
      "   शब्द  :  0.32248638257810386\n",
      "   शब्दों  :  0.30704999113532677\n",
      "   फ़ारसी  :  0.2527356622966322\n",
      "   प्राकृत  :  0.25053565936196953\n",
      "   लिखे  :  0.24870065530492924\n",
      "   तत्सम  :  0.23915019228734927\n",
      "   नहीं  :  0.23771582871286195\n",
      "   शब्दावली  :  0.23285664040890008\n",
      "   बिना  :  0.23147164040633858\n",
      "   मराठी  :  0.2300096379229888\n",
      "   उच्चारण  :  0.22953871018780528\n",
      "Words similar to  विनायकाय  :\n",
      "   सिद्धि  :  0.8909150149903234\n",
      "   नमः  :  0.6805377149868886\n",
      "   ॐ  :  0.6204863570166664\n",
      "   समर्पयामि  :  0.5253736254790832\n",
      "   पूजां  :  0.32892543324239376\n",
      "   पत्र  :  0.254534874160617\n",
      "   दीपं  :  0.25110489155507143\n",
      "   कर्पूर  :  0.24297997160364232\n",
      "   वस्त्र  :  0.24297997160364232\n",
      "   समस्त  :  0.24297997160364232\n",
      "   उप  :  0.2429799716036423\n"
     ]
    },
    {
     "name": "stderr",
     "output_type": "stream",
     "text": [
      "\n"
     ]
    }
   ],
   "source": [
    "import math\n",
    "\n",
    "def insert_into_sorted_list(sorted_list, element):\n",
    "\tindex = 0\n",
    "\twhile index < len(sorted_list) and sorted_list[index][1] > element[1]:\n",
    "\t\tindex += 1\n",
    "\tsorted_list.insert(index, element)\n",
    "\treturn sorted_list[:-1]\n",
    "\n",
    "def cosine(a,b):\n",
    "\t\tmag_a = math.sqrt(sum(component ** 2 for component in a))\n",
    "\t\tmag_b = math.sqrt(sum(component ** 2 for component in b))\n",
    "\t\tdot_product = sum(ai * bi for ai, bi in zip(a, b))\n",
    "\t\tif mag_a == 0 or mag_b ==0:\n",
    "\t\t\treturn 0\n",
    "\t\telse:\n",
    "\t\t\treturn dot_product/(mag_a*mag_b)\n",
    "\n",
    "def find_nearest_neighbor_of_noun(index):\n",
    "\tl=[(vocab[0],(cosine(ppmi_matrix[index], ppmi_matrix[0]))) for _ in range(11)]\n",
    "\tfor i in tqdm(range(1,len(vocab))):\n",
    "\t\tif i!=index and cosine(ppmi_matrix[index],ppmi_matrix[i])>l[10][1]:\n",
    "\t\t\t\tl=insert_into_sorted_list(l,(vocab[i],(cosine(ppmi_matrix[index], ppmi_matrix[i]))))\n",
    "\treturn l\n",
    "\n",
    "nearest_neighbour_dict={}\n",
    "\n",
    "@runtime\n",
    "@memory_location\n",
    "def nearest_seq():\n",
    "\tfor x in tqdm(most_common_elements):\n",
    "\t\tnearest_neighbour_dict[x]=find_nearest_neighbor_of_noun(vocab.index(x))\n",
    "\n",
    "nearest_seq()\n",
    "\n",
    "for i in nearest_neighbour_dict:\n",
    "\tprint(\"Words similar to \",i,\" :\")\n",
    "\tfor j in nearest_neighbour_dict[i]:\n",
    "\t\tprint (\"  \",j[0],\" : \",j[1])\n"
   ]
  },
  {
   "cell_type": "markdown",
   "metadata": {},
   "source": [
    "The above output cell shows the time taken by the sequential process."
   ]
  },
  {
   "cell_type": "markdown",
   "metadata": {},
   "source": [
    "Assignment 6 "
   ]
  },
  {
   "cell_type": "markdown",
   "metadata": {},
   "source": [
    "Computing Co-occurrence matrix with Multiprocessing\n"
   ]
  },
  {
   "cell_type": "code",
   "execution_count": 18,
   "metadata": {},
   "outputs": [
    {
     "name": "stdout",
     "output_type": "stream",
     "text": [
      "Location of create_matrix_p: 129247384554528\n"
     ]
    },
    {
     "name": "stderr",
     "output_type": "stream",
     "text": [
      "0it [00:00, ?it/s]"
     ]
    },
    {
     "name": "stderr",
     "output_type": "stream",
     "text": [
      "3939it [00:17, 226.87it/s]\n"
     ]
    },
    {
     "name": "stdout",
     "output_type": "stream",
     "text": [
      "Time taken by wrapper: 17.387744188308716 seconds\n"
     ]
    }
   ],
   "source": [
    "\n",
    "n = vocabulary_size\n",
    "p_mat = multiprocessing.Array('d', n*n)\n",
    "\n",
    "def compile_grams(gram,p_mat):\n",
    "\n",
    "\tramp=[0,1,2,3,4,5]\n",
    "\n",
    "\tleng=len(vocab)\n",
    "\n",
    "\tx=list(gram)\n",
    "\n",
    "\tif x[0] in vocab:\n",
    "\t\tfor i in range(1,len(x)):\n",
    "\t\t\tif x[i] in vocab:\n",
    "\t\t\t\tp_mat[vocab.index(x[0])*leng+vocab.index(x[i])] += 5-ramp[i]\n",
    "\t\t\t\t\t\n",
    "\tx.reverse()\n",
    "\t\n",
    "\tif x[0] in vocab:\n",
    "\t\tfor i in range(1,len(x)):\n",
    "\t\t\tif x[i] in vocab:\n",
    "\t\t\t\tp_mat[vocab.index(x[0])*leng+vocab.index(x[i])] += 5-ramp[i]\n",
    "\t\n",
    "\n",
    "@runtime\n",
    "@memory_location\n",
    "def create_matrix_p(p_mat):\n",
    "\tgrams = ngrams(tokens,6)\n",
    "\n",
    "\tjobs=[]\n",
    "\n",
    "\tfor gram in tqdm(grams):\n",
    "\t\tp=multiprocessing.Process(target=compile_grams, args=(gram,p_mat,))\n",
    "\t\tp.start()\n",
    "\t\tjobs.append(p)\n",
    "\n",
    "\tfor job in jobs:\n",
    "\t\tjob.join()\n",
    "\n",
    "create_matrix_p(p_mat)\n",
    "\n",
    "p_matrix = np.zeros((n,n),dtype=np.int64)\n",
    "\n",
    "for i in range(n):\n",
    "\tfor j in range(n):\n",
    "\t\tp_matrix[i][j]=p_mat[i*n+j]\n",
    "\n"
   ]
  },
  {
   "cell_type": "markdown",
   "metadata": {},
   "source": [
    "The above output cell shows the time taken by multiprocessing to create the co-occurrence matrix"
   ]
  },
  {
   "cell_type": "markdown",
   "metadata": {},
   "source": [
    "Using Multiprocessing to compute the nearest neighbours"
   ]
  },
  {
   "cell_type": "code",
   "execution_count": 29,
   "metadata": {},
   "outputs": [
    {
     "name": "stdout",
     "output_type": "stream",
     "text": [
      "Location of parallel_nearest: 129247583799552\n"
     ]
    },
    {
     "name": "stderr",
     "output_type": "stream",
     "text": [
      "100%|██████████| 1773/1773 [00:05<00:00, 349.73it/s]\n",
      "100%|██████████| 1773/1773 [00:06<00:00, 290.30it/s]\n",
      "100%|██████████| 1773/1773 [00:05<00:00, 296.10it/s]\n",
      "100%|██████████| 1773/1773 [00:06<00:00, 292.32it/s]\n",
      "100%|██████████| 1773/1773 [00:06<00:00, 287.42it/s]\n",
      "100%|██████████| 1773/1773 [00:06<00:00, 283.14it/s]\n",
      "100%|██████████| 1773/1773 [00:06<00:00, 263.23it/s]\n",
      "100%|██████████| 1773/1773 [00:07<00:00, 242.77it/s]\n",
      "100%|██████████| 1773/1773 [00:07<00:00, 239.49it/s]\n",
      "100%|██████████| 1773/1773 [00:07<00:00, 244.52it/s]\n"
     ]
    },
    {
     "name": "stdout",
     "output_type": "stream",
     "text": [
      "Time taken by wrapper: 7.504637718200684 seconds\n",
      "Words similar to  हिन्दी  :\n",
      "   भाषा  :  0.34723963996011337\n",
      "   भारत  :  0.339430608696483\n",
      "   रूप  :  0.30548409260065607\n",
      "   उर्दू  :  0.300078744109324\n",
      "   भारतीय  :  0.28783740082753745\n",
      "   प्रयोग  :  0.26181813474453075\n",
      "   भाषाओं  :  0.2580177115873143\n",
      "   राजभाषा  :  0.2507951138853613\n",
      "   लोगों  :  0.24454747975284472\n",
      "   संख्या  :  0.24381054880907818\n",
      "   आधुनिक  :  0.23801912610557582\n",
      "Words similar to  ॐ  :\n",
      "   नमः  :  0.8331027179229086\n",
      "   सिद्धि  :  0.6230561905579799\n",
      "   विनायकाय  :  0.6204863570166664\n",
      "   समर्पयामि  :  0.5894912204663977\n",
      "   श्री  :  0.4178855280895735\n",
      "   पूजयामि  :  0.3810011342724255\n",
      "   महा  :  0.36825941601983075\n",
      "   विघ्न  :  0.3414698632101067\n",
      "   पुष्पं  :  0.3383239111668998\n",
      "   दन्ताय  :  0.3306362704857525\n",
      "   राजाय  :  0.31982842044205595\n",
      "Words similar to  भाषा  :\n",
      "   रूप  :  0.3920582355010141\n",
      "   हिन्दी  :  0.34723963996011337\n",
      "   अरबी  :  0.2604790313453316\n",
      "   उर्दू  :  0.25425497320377005\n",
      "   भारत  :  0.25274238623553785\n",
      "   विश्व  :  0.24686043157160145\n",
      "   प्रयोग  :  0.2465544142757765\n",
      "   वाली  :  0.24629187347461845\n",
      "   शब्द  :  0.24609328764723645\n",
      "   फ़ारसी  :  0.24508262713913218\n",
      "   हिन्दुस्तानी  :  0.23946960749885407\n",
      "Words similar to  नमः  :\n",
      "   ॐ  :  0.8331027179229086\n",
      "   विनायकाय  :  0.6805377149868886\n",
      "   सिद्धि  :  0.6325960057970619\n",
      "   समर्पयामि  :  0.5895384851957848\n",
      "   पूजयामि  :  0.3969740814957259\n",
      "   पुष्पं  :  0.3953502467193703\n",
      "   विघ्न  :  0.36287348691979454\n",
      "   दन्ताय  :  0.35072552779754734\n",
      "   राजाय  :  0.3364445371786785\n",
      "   पत्रम्  :  0.33420827834741595\n",
      "   पूजां  :  0.3269986294136795\n",
      "Words similar to  लिपि  :\n",
      "   देवनागरी  :  0.4982598593624942\n",
      "   लिपियों  :  0.3239334271931236\n",
      "   लिखा  :  0.3140677581926813\n",
      "   नागरी  :  0.3035265743838318\n",
      "   ब्राह्मी  :  0.2965829659403721\n",
      "   अक्षरात्मक  :  0.2719680506923448\n",
      "   शताब्दी  :  0.26013969767385536\n",
      "   सबसे  :  0.25527176055896433\n",
      "   नहीं  :  0.24745732669985343\n",
      "   अंकित  :  0.2412678683433289\n",
      "   अवस्था  :  0.2375638441816878\n",
      "Words similar to  देवनागरी  :\n",
      "   लिपि  :  0.4982598593624942\n",
      "   अंकित  :  0.3460913963885234\n",
      "   सिक्कों  :  0.30112247417668275\n",
      "   शताब्दी  :  0.2845991020769628\n",
      "   राजा  :  0.266729876668257\n",
      "   व्यवहार  :  0.25853457758576603\n",
      "   लिखने  :  0.2475463403568545\n",
      "   नागरी  :  0.24654507887822566\n",
      "   लेख  :  0.24530830600452047\n",
      "   लिपियों  :  0.24528545064163235\n",
      "   प्रथम  :  0.24285774391310957\n",
      "Words similar to  रूप  :\n",
      "   भाषा  :  0.3920582355010141\n",
      "   हिन्दी  :  0.30548409260065607\n",
      "   उर्दू  :  0.24837523885258012\n",
      "   शब्द  :  0.23082574464453617\n",
      "   मानकीकृत  :  0.22662918033262547\n",
      "   प्रयोग  :  0.2224424159834183\n",
      "   अरबी  :  0.21434661850423178\n",
      "   निम्न  :  0.21035550141835366\n",
      "   विश्व  :  0.20832442366647172\n",
      "   उपमहाद्वीप  :  0.20698840850717448\n",
      "   लिपि  :  0.20204226442006518\n",
      "Words similar to  शब्द  :\n",
      "   संस्कृत  :  0.32248638257810386\n",
      "   अर्थ  :  0.3088800785927619\n",
      "   बना  :  0.27963978650425764\n",
      "   फ़ारसीअरबी  :  0.2636373883859005\n",
      "   भाषा  :  0.24609328764723645\n",
      "   अरबी  :  0.24494908147634065\n",
      "   देशज  :  0.24399477157058094\n",
      "   उर्दू  :  0.23955908171615634\n",
      "   शब्दों  :  0.2394758812683741\n",
      "   सिन्धु  :  0.23925087630437109\n",
      "   रूप  :  0.23082574464453617\n",
      "Words similar to  संस्कृत  :\n",
      "   शब्द  :  0.32248638257810386\n",
      "   शब्दों  :  0.30704999113532677\n",
      "   फ़ारसी  :  0.2527356622966322\n",
      "   प्राकृत  :  0.25053565936196953\n",
      "   लिखे  :  0.24870065530492924\n",
      "   तत्सम  :  0.23915019228734927\n",
      "   नहीं  :  0.23771582871286195\n",
      "   शब्दावली  :  0.23285664040890008\n",
      "   बिना  :  0.23147164040633858\n",
      "   मराठी  :  0.2300096379229888\n",
      "   उच्चारण  :  0.22953871018780528\n",
      "Words similar to  विनायकाय  :\n",
      "   सिद्धि  :  0.8909150149903234\n",
      "   नमः  :  0.6805377149868886\n",
      "   ॐ  :  0.6204863570166664\n",
      "   समर्पयामि  :  0.5253736254790832\n",
      "   पूजां  :  0.32892543324239376\n",
      "   पत्र  :  0.254534874160617\n",
      "   दीपं  :  0.25110489155507143\n",
      "   कर्पूर  :  0.24297997160364232\n",
      "   वस्त्र  :  0.24297997160364232\n",
      "   समस्त  :  0.24297997160364232\n",
      "   उप  :  0.2429799716036423\n"
     ]
    }
   ],
   "source": [
    "\n",
    "\n",
    "neigh = multiprocessing.Manager().dict()\n",
    "\n",
    "def p_insert_into_sorted_list(sorted_list, element):\n",
    "\tindex = 0\n",
    "\twhile index < len(sorted_list) and sorted_list[index][1] > element[1]:\n",
    "\t\tindex += 1\n",
    "\tsorted_list.insert(index, element)\n",
    "\treturn sorted_list[:-1]\n",
    "\n",
    "def p_cosine(a,b):\n",
    "\t\tmag_a = math.sqrt(sum(component ** 2 for component in a))\n",
    "\t\tmag_b = math.sqrt(sum(component ** 2 for component in b))\n",
    "\t\tdot_product = sum(ai * bi for ai, bi in zip(a, b))\n",
    "\t\tif mag_a == 0 or mag_b ==0:\n",
    "\t\t\treturn 0\n",
    "\t\telse:\n",
    "\t\t\treturn dot_product/(mag_a*mag_b)\n",
    "\n",
    "def p_find_nearest_neighbor_of_noun(index,neigh):\n",
    "\tl=[(vocab[0],(p_cosine(ppmi_matrix[index], ppmi_matrix[0]))) for _ in range(11)]\n",
    "\tfor i in tqdm(range(1,n)):\n",
    "\t\tif i!=index:\n",
    "\t\t\tif p_cosine(ppmi_matrix[index],ppmi_matrix[i])>l[10][1]:\n",
    "\t\t\t\tl=p_insert_into_sorted_list(l,(vocab[i],(p_cosine(ppmi_matrix[index], ppmi_matrix[i]))))\n",
    "\n",
    "\tneigh[vocab[index]]=l\n",
    "\n",
    "@runtime\n",
    "@memory_location\n",
    "def parallel_nearest():\n",
    "\tjobs=[]\n",
    "\tfor x in (most_common_elements):\n",
    "\t\tp=multiprocessing.Process(target=p_find_nearest_neighbor_of_noun, args=(vocab.index(x),neigh,))\n",
    "\t\tp.start()\n",
    "\t\tjobs.append(p)\n",
    "\n",
    "\tfor job in jobs:\n",
    "\t\tjob.join()\n",
    "\t\t\n",
    "parallel_nearest()\n",
    "\n",
    "neighbour={}\n",
    "\n",
    "for elem in most_common_elements:\n",
    "\tneighbour[elem]=neigh[elem]\n",
    "\n",
    "for i in neighbour:\n",
    "\tprint(\"Words similar to \",i,\" :\")\n",
    "\tfor j in neighbour[i]:\n",
    "\t\tprint (\"  \",j[0],\" : \",j[1])"
   ]
  }
 ],
 "metadata": {
  "kernelspec": {
   "display_name": "Python 3",
   "language": "python",
   "name": "python3"
  },
  "language_info": {
   "codemirror_mode": {
    "name": "ipython",
    "version": 3
   },
   "file_extension": ".py",
   "mimetype": "text/x-python",
   "name": "python",
   "nbconvert_exporter": "python",
   "pygments_lexer": "ipython3",
   "version": "3.12.3"
  }
 },
 "nbformat": 4,
 "nbformat_minor": 2
}
