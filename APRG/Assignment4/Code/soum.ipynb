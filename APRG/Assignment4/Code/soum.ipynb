{
 "cells": [
  {
   "cell_type": "code",
   "execution_count": 1,
   "metadata": {},
   "outputs": [
    {
     "name": "stderr",
     "output_type": "stream",
     "text": [
      "[nltk_data] Error loading punkt: <urlopen error [Errno 11001]\n",
      "[nltk_data]     getaddrinfo failed>\n"
     ]
    },
    {
     "data": {
      "text/plain": [
       "False"
      ]
     },
     "execution_count": 1,
     "metadata": {},
     "output_type": "execute_result"
    }
   ],
   "source": [
    "import multiprocessing\n",
    "import math\n",
    "from wiki_dump_reader import Cleaner , iterate\n",
    "from tqdm import tqdm\n",
    "import numpy as np\n",
    "import multiprocessing\n",
    "import nltk\n",
    "from collections import Counter, defaultdict\n",
    "from nltk import ngrams, word_tokenize\n",
    "nltk.download('punkt')\n",
    "\n"
   ]
  },
  {
   "cell_type": "code",
   "execution_count": 2,
   "metadata": {},
   "outputs": [],
   "source": [
    "def minimize_pre(so,de):\n",
    "    i=1000\n",
    "    with open(so, 'r',encoding=\"utf-8\") as sor:\n",
    "        with open(de, 'w',encoding=\"utf-8\") as des:\n",
    "                for line in sor:\n",
    "                    des.write(line[:(len(line))//i])\n",
    "\n",
    "minimize_pre(\"PreProcessed_Corpus - Copy.txt\", \"PreProcessed_Corpus.txt\")"
   ]
  },
  {
   "cell_type": "markdown",
   "metadata": {},
   "source": [
    "Decorator to calculate execution time of functions.\n"
   ]
  },
  {
   "cell_type": "code",
   "execution_count": 3,
   "metadata": {},
   "outputs": [],
   "source": [
    "import time\n",
    "\n",
    "def calculate_time(func):\n",
    "    \"\"\"\n",
    "    Decorator function to calculate the execution time of another function.\n",
    "\n",
    "    Args:\n",
    "        func (function): The function whose execution time is to be measured.\n",
    "\n",
    "    Returns:\n",
    "        function: A wrapped function that calculates and prints the execution time of the original function.\n",
    "\n",
    "    \"\"\"\n",
    "    def wrapper(*args, **kwargs):\n",
    "        \"\"\"\n",
    "        Calculate the execution time of the decorated function.\n",
    "\n",
    "        Args:\n",
    "            *args: Positional arguments to be passed to the decorated function.\n",
    "            **kwargs: Keyword arguments to be passed to the decorated function.\n",
    "\n",
    "        Returns:\n",
    "            Any: The result of the decorated function.\n",
    "        \n",
    "        \"\"\"\n",
    "        # Record the start time before executing the function\n",
    "        start_time = time.time()\n",
    "        \n",
    "        # Execute the decorated function\n",
    "        result = func(*args, **kwargs)\n",
    "        \n",
    "        # Record the end time after executing the function\n",
    "        end_time = time.time()\n",
    "        \n",
    "        # Calculate and print the execution time\n",
    "        print(f\"Execution time of {func.__name__}: {end_time - start_time} seconds\")\n",
    "        \n",
    "        # Return the result of the decorated function\n",
    "        return result\n",
    "    return wrapper\n",
    "\n"
   ]
  },
  {
   "cell_type": "markdown",
   "metadata": {},
   "source": [
    "Decorator to print the memory location of a wrapped function.\n"
   ]
  },
  {
   "cell_type": "code",
   "execution_count": 4,
   "metadata": {},
   "outputs": [],
   "source": [
    "def memory_location(func):\n",
    "    \"\"\"\n",
    "    A decorator function to print the memory location of a wrapped function.\n",
    "\n",
    "    Args:\n",
    "        func (function): The function whose memory location is to be printed.\n",
    "\n",
    "    Returns:\n",
    "        function: A wrapped function that prints the memory location of the original function and then calls it.\n",
    "\n",
    "    \"\"\"\n",
    "    def wrapper(*args, **kwargs):\n",
    "        \"\"\"\n",
    "        Print the memory location of the decorated function and then call it.\n",
    "\n",
    "        Args:\n",
    "            *args: Positional arguments to be passed to the decorated function.\n",
    "            **kwargs: Keyword arguments to be passed to the decorated function.\n",
    "\n",
    "        Returns:\n",
    "            Any: The result of the decorated function.\n",
    "        \n",
    "        \"\"\"\n",
    "        print(f\"Memory location of {func.__name__}: {id(func)}\")\n",
    "        return func(*args, **kwargs)\n",
    "    return wrapper\n"
   ]
  },
  {
   "cell_type": "markdown",
   "metadata": {},
   "source": [
    "Decorator to calculate execution time and memory location of the create_corpus function.\n"
   ]
  },
  {
   "cell_type": "code",
   "execution_count": 5,
   "metadata": {},
   "outputs": [],
   "source": [
    "@calculate_time\n",
    "@memory_location\n",
    "def create_corpus():\n",
    "    \"\"\"\n",
    "    Create a corpus from a Wikipedia dump file in Hindi.\n",
    "\n",
    "    This function iterates over pages in a file named 'hiwiki-latest-pages-articles.xml',\n",
    "    cleans the text, and writes it along with the title to a new file named 'Hindi_Corpus.txt'.\n",
    "    It also updates a progress bar using tqdm to show the processing progress.\n",
    "\n",
    "    Args:\n",
    "        None\n",
    "\n",
    "    Returns:\n",
    "        None\n",
    "\n",
    "    Raises:\n",
    "        None\n",
    "\n",
    "    \"\"\"\n",
    "    corpus_file = 'Hindi_Corpus.txt'  # File to store the corpus\n",
    "    corpus_limit = 232729  # Limit for the number of pages in the corpus\n",
    "    page_count = 0  # Counter for the number of processed pages\n",
    "    cleaner = Cleaner()  # Assuming Cleaner class is imported or defined elsewhere.\n",
    "\n",
    "    # Open the output file for writing\n",
    "    with open(corpus_file, 'w', encoding='utf-8') as output:\n",
    "        pg_bar = tqdm(total=corpus_limit)  # Initialize the progress bar\n",
    "        # Iterate over pages in 'hiwiki-latest-pages-articles.xml'\n",
    "        for title, text in iterate('hiwiki-latest-pages-articles.xml'):  # Assuming iterate function is defined elsewhere.\n",
    "            # Clean the text\n",
    "            text = cleaner.clean_text(text)\n",
    "            cleaned_text, _ = cleaner.build_links(text)\n",
    "            # Write title and cleaned text to the corpus file\n",
    "            output.write(title + '\\n' + cleaned_text + '\\n')\n",
    "            page_count += 1\n",
    "            if page_count % 1000 == 0:\n",
    "                pg_bar.update(1000)  # Update progress bar every 1000 pages\n",
    "        pg_bar.close()  # Close the progress bar\n",
    "        output.close()  # Close the output file\n",
    "    print(f\"\\nPage count = {page_count}\")  # Print total page count after processing\n",
    "    \n",
    "    create_corpus()\n",
    "\n"
   ]
  },
  {
   "cell_type": "markdown",
   "metadata": {},
   "source": [
    "Preprocess a source file by removing stop words and non-Hindi characters.\n"
   ]
  },
  {
   "cell_type": "code",
   "execution_count": 6,
   "metadata": {},
   "outputs": [],
   "source": [
    "def remove_stop_words(string):\n",
    "    \"\"\"\n",
    "    Remove stop words from a given string.\n",
    "\n",
    "    Args:\n",
    "        string (str): Input string from which stop words are to be removed.\n",
    "\n",
    "    Returns:\n",
    "        str: String with stop words removed.\n",
    "    \"\"\"\n",
    "    # Load stop words from file\n",
    "    with open('stopwords.txt', 'r', encoding='utf-8') as stop:\n",
    "        stop_words = stop.read().split()\n",
    "\n",
    "    # Split the input string into words\n",
    "    words = string.split()\n",
    "\n",
    "    # Filter out stop words\n",
    "    filtered_words = [word for word in words if word not in stop_words]\n",
    "\n",
    "    # Join the filtered words back into a string\n",
    "    return ' '.join(filtered_words)\n",
    "\n",
    "\n",
    "import re\n",
    "\n",
    "def remove_foreign(x):\n",
    "    \"\"\"\n",
    "    Remove non-Hindi characters from a given string.\n",
    "\n",
    "    Args:\n",
    "        x (str): Input string from which non-Hindi characters are to be removed.\n",
    "\n",
    "    Returns:\n",
    "        str: String containing only Hindi characters.\n",
    "    \"\"\"\n",
    "    # Split the input string into words\n",
    "    words = x.split(' ')\n",
    "\n",
    "    # Find Hindi characters using regex\n",
    "    hindi_chars = [(re.compile(r'[\\u0901-\\u0939\\u093C-\\u094D\\u0950-\\u0954\\u0958-\\u0963\\u097B-\\u097F]')).findall(s) for s in words]\n",
    "\n",
    "    # Join the Hindi characters back into a string\n",
    "    hindi_string = ' '.join([''.join(chars) for chars in hindi_chars])\n",
    "\n",
    "    return hindi_string\n",
    "\n",
    "\n",
    "@calculate_time\n",
    "@memory_location\n",
    "def pre(source, destination):\n",
    "    \"\"\"\n",
    "    Preprocess a source file and write the preprocessed content to a destination file.\n",
    "\n",
    "    Args:\n",
    "        source (str): Path to the source file.\n",
    "        destination (str): Path to the destination file where preprocessed content will be written.\n",
    "\n",
    "    Returns:\n",
    "        None\n",
    "    \"\"\"\n",
    "    line_count = 0\n",
    "    # Open source file for reading and destination file for writing\n",
    "    with open(source, 'r', encoding='utf-8') as input_file:\n",
    "        with open(destination, 'w', encoding='utf-8') as output_file:\n",
    "            # Initialize progress bar\n",
    "            bar = tqdm(total=4400000)\n",
    "            # Iterate over lines in the source file\n",
    "            for line in input_file:\n",
    "                # Remove newline characters\n",
    "                string = line.strip('\\n')\n",
    "                # Remove non-Hindi characters\n",
    "                string = remove_foreign(string)\n",
    "                # Remove stop words\n",
    "                string = remove_stop_words(string)\n",
    "                # Write preprocessed string to destination file\n",
    "                output_file.write(string)\n",
    "                # Increment line count\n",
    "                line_count += 1\n",
    "                # Update progress bar every 10000 lines\n",
    "                if line_count % 10000 == 0:\n",
    "                    bar.update(10000)\n",
    "            # Close progress bar\n",
    "            bar.close()\n",
    "\n"
   ]
  },
  {
   "cell_type": "code",
   "execution_count": null,
   "metadata": {},
   "outputs": [],
   "source": [
    "pre('Hindi_Corpus.txt', 'PreProcessed_Corpus.txt')"
   ]
  },
  {
   "cell_type": "markdown",
   "metadata": {},
   "source": [
    "Generate vocabulary and distinct vocabulary lists from a preprocessed corpus file.\n"
   ]
  },
  {
   "cell_type": "code",
   "execution_count": 7,
   "metadata": {},
   "outputs": [],
   "source": [
    "from collections import Counter\n",
    "\n",
    "const_vocab = 20  # Global constant for minimum word frequency\n",
    "\n",
    "def gen_vocab():\n",
    "    \"\"\"\n",
    "    Generate a vocabulary list from the preprocessed corpus file.\n",
    "\n",
    "    Reads the text from 'PreProcessed_Corpus.txt' and returns it as a list of words.\n",
    "\n",
    "    Returns:\n",
    "        list: A list of words extracted from the file 'PreProcessed_Corpus.txt'.\n",
    "    \n",
    "    \"\"\"\n",
    "    # Read text from the preprocessed corpus file\n",
    "    with open('PreProcessed_Corpus.txt', 'r', encoding='utf-8') as r:\n",
    "        text = r.read().split()\n",
    "    \n",
    "    # Count occurrences of each word\n",
    "    word_counts = Counter(text)\n",
    "    \n",
    "    # Filter out words occurring less than const_vocab times\n",
    "    text = [word for word in tqdm(text) if word_counts[word] > const_vocab]  \n",
    "    \n",
    "    return text\n",
    "\n",
    "def gen_distinct_vocab():\n",
    "    \"\"\"\n",
    "    Generate a list of distinct vocabulary from the preprocessed corpus file.\n",
    "\n",
    "    Reads the text from 'PreProcessed_Corpus.txt', extracts distinct words, and returns them as a list.\n",
    "    This function computes the vocabulary size and stores it in a global variable 'vocabulary_size'.\n",
    "\n",
    "    Returns:\n",
    "        list: A list of distinct words extracted from the file 'PreProcessed_Corpus.txt'.\n",
    "    \n",
    "    \"\"\"\n",
    "    # Read text from the preprocessed corpus file\n",
    "    with open('PreProcessed_Corpus.txt', 'r', encoding='utf-8') as r:\n",
    "        text = r.read().split()\n",
    "        \n",
    "        # Count occurrences of each word\n",
    "        counter = Counter(text)\n",
    "        \n",
    "        # Filter out words occurring less than const_vocab times\n",
    "        reduced_vocab = [item for item, count in counter.items() if count > const_vocab]\n",
    "        \n",
    "        # Convert to set to get distinct words\n",
    "        text_set = set(reduced_vocab)\n",
    "        \n",
    "        # Calculate vocabulary size and store it in a global variable\n",
    "        global vocabulary_size\n",
    "        vocabulary_size = len(text_set)\n",
    "        \n",
    "    return list(text_set)\n"
   ]
  },
  {
   "cell_type": "code",
   "execution_count": 8,
   "metadata": {},
   "outputs": [
    {
     "name": "stderr",
     "output_type": "stream",
     "text": [
      "100%|██████████| 42667/42667 [00:00<00:00, 3023047.55it/s]"
     ]
    },
    {
     "name": "stdout",
     "output_type": "stream",
     "text": [
      "316\n"
     ]
    },
    {
     "name": "stderr",
     "output_type": "stream",
     "text": [
      "\n"
     ]
    }
   ],
   "source": [
    "\n",
    "global words_list\n",
    "words_list=gen_vocab()\n",
    "distinct_vocab=gen_distinct_vocab()\n",
    "vocabulary_size = len(distinct_vocab)\n",
    "print((vocabulary_size))"
   ]
  },
  {
   "cell_type": "code",
   "execution_count": 9,
   "metadata": {},
   "outputs": [],
   "source": [
    "\n",
    "def gen_grams():            \n",
    "    global tokens\n",
    "    global grams\n",
    "    tokens = word_tokenize(' '.join(words_list))\n",
    "    grams = ngrams(tokens, 6)\n",
    "    return None \n",
    "\n",
    "gen_grams()"
   ]
  },
  {
   "cell_type": "code",
   "execution_count": 10,
   "metadata": {},
   "outputs": [
    {
     "name": "stdout",
     "output_type": "stream",
     "text": [
      "Number of tokens is:  14911\n",
      "Size of the vocabulary:  316\n",
      "First 1500 words of the Vocabulary:  ['मुख्य', 'हिंदी', 'गीत', 'गीत', 'सदी', 'स्वर', 'बना', 'गीत', 'माना', 'पूजा', 'विधि', 'पूजा', 'हिन्दू', 'धर्म', 'विभिन्न', 'देवताओं', 'पूजा', 'तीन', 'प्रकार', 'नाम', 'वैदिक', 'देवता', 'नाम', 'नमः', 'वेदों', 'वाली', 'वाली', 'वाली', 'वाली', 'वाली', 'वाली', 'देवता', 'पूजा', 'नाम', 'संस्कृत', 'पूजा', 'मुख्य', 'देवताओं', 'पूजा', 'नाम', 'ॐ', 'सिद्धि', 'विनायकाय', 'ॐ', 'ॐ', 'ॐ', 'ॐ', 'ॐ', 'नमः', 'ॐ', 'ॐ', 'नमः', 'ॐ', 'ॐ', 'ॐ', 'ॐ', 'नमः', 'ॐ', 'नमः', 'ॐ', 'ॐ', 'ॐ', 'सिद्धि', 'विनायकाय', 'नमः', 'ॐ', 'सिद्धि', 'विनायकाय', 'नमः', 'ॐ', 'सिद्धि', 'विनायकाय', 'नमः', 'समर्पयामि', 'ॐ', 'सिद्धि', 'विनायकाय', 'नमः', 'समर्पयामि', 'ॐ', 'सिद्धि', 'विनायकाय', 'नमः', 'समर्पयामि', 'ॐ', 'सिद्धि', 'विनायकाय', 'नमः', 'समर्पयामि', 'ॐ', 'सिद्धि', 'विनायकाय', 'नमः', 'समर्पयामि', 'ॐ', 'सिद्धि', 'विनायकाय', 'नमः', 'समर्पयामि', 'ॐ', 'सिद्धि', 'विनायकाय', 'नमः', 'समर्पयामि', 'ॐ', 'सिद्धि', 'विनायकाय', 'नमः', 'समर्पयामि', 'ॐ', 'सिद्धि', 'विनायकाय', 'नमः', 'समर्पयामि', 'ॐ', 'सिद्धि', 'विनायकाय', 'नमः', 'समर्पयामि', 'ॐ', 'सिद्धि', 'विनायकाय', 'नमः', 'समर्पयामि', 'ॐ', 'सिद्धि', 'विनायकाय', 'नमः', 'ॐ', 'सिद्धि', 'विनायकाय', 'नमः', 'नाम', 'ॐ', 'नमः', 'ॐ', 'नमः', 'ॐ', 'नमः', 'ॐ', 'नमः', 'ॐ', 'नमः', 'ॐ', 'सिद्धि', 'विनायकाय', 'नमः', 'नाम', 'ॐ', 'नमः', 'समर्पयामि', 'ॐ', 'नमः', 'समर्पयामि', 'ॐ', 'नमः', 'समर्पयामि', 'ॐ', 'नमः', 'समर्पयामि', 'ॐ', 'नमः', 'समर्पयामि', 'ॐ', 'सिद्धि', 'विनायकाय', 'नमः', 'नाम', 'ॐ', 'नमः', 'समर्पयामि', 'ॐ', 'नमः', 'समर्पयामि', 'ॐ', 'नमः', 'समर्पयामि', 'ॐ', 'नमः', 'समर्पयामि', 'ॐ', 'नमः', 'समर्पयामि', 'ॐ', 'सिद्धि', 'विनायकाय', 'नमः', 'नाम', 'नमः', 'ॐ', 'नमः', 'ॐ', 'नमः', 'ॐ', 'नमः', 'ॐ', 'नमः', 'ॐ', 'नमः', 'ॐ', 'नमः', 'ॐ', 'विनायकाय', 'नमः', 'ॐ', 'नमः', 'ॐ', 'नमः', 'ॐ', 'नमः', 'ॐ', 'नमः', 'ॐ', 'नमः', 'ॐ', 'नमः', 'ॐ', 'नमः', 'ॐ', 'सिद्धि', 'विनायकाय', 'नमः', 'ॐ', 'नमः', 'ॐ', 'नाम', 'सिद्धि', 'विनायकाय', 'नमः', 'ॐ', 'सिद्धि', 'विनायकाय', 'नमः', 'ॐ', 'सिद्धि', 'विनायकाय', 'नमः', 'ॐ', 'सिद्धि', 'विनायकाय', 'नमः', 'समर्पयामि', 'ॐ', 'सिद्धि', 'विनायकाय', 'नमः', 'समर्पयामि', 'ॐ', 'सिद्धि', 'विनायकाय', 'नमः', 'समर्पयामि', 'ॐ', 'सिद्धि', 'विनायकाय', 'नमः', 'समर्पयामि', 'ॐ', 'सिद्धि', 'विनायकाय', 'नमः', 'समर्पयामि', 'ॐ', 'सिद्धि', 'विनायकाय', 'नमः', 'समर्पयामि', 'ॐ', 'सिद्धि', 'विनायकाय', 'नमः', 'न', 'न', 'न', 'ॐ', 'सिद्धि', 'विनायकाय', 'जिसके', 'रूप', 'हिन्दी', 'विश्व', 'प्रमुख', 'भाषा', 'भारत', 'स्तर', 'भारत', 'भाषा', 'भाषा', 'रूप', 'संस्कृत', 'शब्दों', 'प्रयोग', 'शब्द', 'हिन्दी', 'रूप', 'भारत', 'भारत', 'सबसे', 'बोली', 'वाली', 'भाषा', 'हिन्दी', 'भारत', 'नहीं', 'क्योंकि', 'भारत', 'संविधान', 'भाषा', 'नहीं', 'अनुसार', 'हिन्दी', 'विश्व', 'सबसे', 'बोली', 'वाली', 'भाषा', 'विश्व', 'आर्थिक', 'अनुसार', 'विश्व', 'भारतीय', 'जनसंख्या', 'हिन्दी', 'भारतीय', 'लोगों', 'हिन्दी', 'मूल', 'भाषा', 'अतिरिक्त', 'भारत', 'पाकिस्तान', 'देशों', 'करोड़', 'लोगों', 'बोली', 'वाली', 'उर्दू', 'आधार', 'हिन्दी', 'भाषा', 'रूप', 'विशाल', 'संख्या', 'लोग', 'हिन्दी', 'उर्दू', 'भारत', 'हिन्दी', 'विभिन्न', 'भारतीय', 'राज्यों', 'भाषाओं', 'क्षेत्र', 'उपयोग', 'लगभग', 'अरब', 'लोगों', 'भाषा', 'हिन्दी', 'भारत', 'भाषा', 'कार्य', 'करती', 'भारत', 'रूप', 'वाली', 'भाषा', 'हिन्दी', 'शब्द', 'प्रयोग', 'भारतीय', 'उपयोग', 'भाषा', 'हिन्दी', 'हिन्दी', 'अर्थात्', 'प्रदेश', 'मध्य', 'प्रदेश', 'उत्तर', 'प्रदेश', 'राष्ट्रीय', 'क्षेत्र', 'भारत', 'विविध', 'राज्यों', 'बोली', 'भारत', 'देशों', 'लोग', 'हिन्दी', 'संयुक्त', 'अरब', 'हिन्दी', 'उपयोग', 'लोगों', 'बड़ी', 'संख्या', 'हिन्दी', 'भाषा', 'रूप', 'भाषा', 'बोली', 'हिन्दी', 'नाम', 'विभिन्न', 'ऐतिहासिक', 'विभिन्न', 'हिन्दी', 'यूरोपीय', 'शाखा', 'अन्तर्गत', 'संस्करण', 'अनुसार', 'हिंदी', 'प्रथम', 'भाषा', 'रूप', 'लोगों', 'संख्या', 'आधार', 'हिंदी', 'विश्व', 'सबसे', 'बोली', 'वाली', 'शब्द', 'सम्बन्ध', 'संस्कृत', 'शब्द', 'माना', 'नदी', 'आधार', 'भूमि', 'शब्द', 'हिन्दू', 'हिन्दी', 'भारत', 'शब्द', 'अर्थ', 'शब्द', 'भारत', 'बना', 'जिसका', 'अर्थ', 'शब्द', 'अंग्रेजी', 'शब्द', 'रूप', 'हिन्दी', 'भाषा', 'शब्द', 'प्रयोग', 'मिलता', 'प्रमुख', 'उर्दू', 'वीं', 'सदी', 'भाषा', 'हिंदी', 'रूप', 'हिन्दी', 'उर्दू', 'हिन्दी', 'विचार', 'प्राचीन', 'भाषा', 'ध्वनि', 'नहीं', 'बोली', 'बल्कि', 'संस्कृत', 'शब्द', 'शब्द', 'नदी', 'प्राचीन', 'फ़ारसी', 'साहित्य', 'भाषा', 'विचार', 'रूप', 'जिसका', 'शब्द', 'अरबी', 'बन', 'अरबी', 'रूप', 'मूल', 'अरबी', 'अरबी', 'फ़ारसी', 'साहित्य', 'भारत', 'बोली', 'वाली', 'भाषाओं', 'उपयोग', 'भारत', 'आने', 'हिन्दी', 'हिन्दी', 'प्रयोग', 'ओर', 'बोली', 'वाली', 'भाषा', 'उत्पत्ति', 'भाषा', 'इतिहास', 'लगभग', 'वर्ष', 'माना', 'हिन्दी', 'भाषा', 'साहित्य', 'हिन्दी', 'हिन्दी', 'आधुनिक', 'भारतीय', 'भाषाओं', 'हिन्दी', 'स्वरूप', 'विकसित', 'ई', 'भाषाएँ', 'प्रयोग', 'भाषाएँ', 'विकसित', 'होकर', 'आधुनिक', 'भारतीय', 'भाषाओं', 'रूप', 'रूप', 'आधुनिक', 'सम्बन्ध', 'शब्द', 'शब्द', 'भाषा', 'शब्दों', 'संस्कृत', 'शब्द', 'शब्द', 'नहीं', 'करती', 'परन्तु', 'संस्कृत', 'लिखे', 'संस्कृत', 'प्रकृति', 'माना', 'शब्द', 'न', 'काल', 'हिन्दी', 'विकास', 'भारतीय', 'अनेक', 'भारतीय', 'हिन्दी', 'विकास', 'नागरी', 'हिन्दी', 'साहित्य', 'हिन्दी', 'भारत', 'संविधान', 'हिन्दी', 'भारत', 'अनुसार', 'हिन्दी', 'चार', 'प्रमुख', 'रूप', 'हिन्दी', 'हिन्दी', 'रूप', 'लिपि', 'देवनागरी', 'संस्कृत', 'भाषा', 'शब्द', 'फ़ारसी', 'अरबी', 'शब्दों', 'हिन्दी', 'आधारित', 'क्षेत्रों', 'रूप', 'शब्द', 'उर्दू', 'उर्दू', 'रूप', 'हिन्दी', 'रूप', 'देवनागरी', 'लिपि', 'लिपि', 'लिखा', 'संस्कृत', 'शब्द', 'शब्द', 'उर्दू', 'भाषा', 'हिन्दी', 'उर्दू', 'भाषा', 'संस्कृत', 'शब्द', 'शब्द', 'हिन्दी', 'भारतीय', 'संघ', 'भारतीय', 'संविधान', 'भारतीय', 'राज्यों', 'उत्तर', 'प्रदेश', 'मध्य', 'प्रदेश', 'प्रदेश', 'राज्यों', 'अतिरिक्त', 'पश्चिम', 'हिन्दी', 'राज्यों', 'राज्यों', 'हिन्दी', 'संख्या', 'उर्दू', 'पाकिस्तान', 'भारतीय', 'राज्य', 'अतिरिक्त', 'उत्तर', 'प्रदेश', 'लगभग', 'राज्यों', 'मुख्य', 'हिन्दी', 'उर्दू', 'भाषा', 'हिन्दी', 'देवनागरी', 'लिपि', 'स्तर', 'संस्कृत', 'शब्दों', 'प्रयोग', 'करती', 'उर्दू', 'लिपि', 'स्तर', 'फ़ारसी', 'अरबी', 'भाषाओं', 'प्रभाव', 'हालाँकि', 'रूप', 'उर्दू', 'हिन्दी', 'नहीं', 'परन्तु', 'विशेष', 'क्षेत्रों', 'स्रोत', 'लिखा', 'विशेष', 'उर्दू', 'अरबी', 'फ़ारसी', 'प्रकार', 'फ़ारसी', 'अरबी', 'विशेष', 'प्रयोग', 'उर्दू', 'हिन्दी', 'हिन्दी', 'देवनागरी', 'क्षेत्रों', 'हिन्दी', 'देवनागरी', 'देवनागरी', 'क्षेत्र', 'विशाल', 'हिन्दी', 'अनेक', 'इनमें', 'साहित्य', 'रचना', 'ऐसी', 'प्रमुख', 'हिन्दी', 'शक्ति', 'हिन्दी', 'हिन्दी', 'न', 'केवल', 'बड़ी', 'इतिहास', 'सभ्यता', 'वर्तमान', 'रचना', 'संसार', 'प्रमुख', 'हिन्दी', 'मुख्य', 'पश्चिमी', 'हिन्दी', 'देवनागरी', 'लिपि', 'लिखा', 'नागरी', 'नाम', 'जाना', 'देवनागरी', 'स्वर', 'ओर', 'शब्द', 'शब्द', 'संस्कृत', 'रूप', 'परन्तु', 'हिन्दी', 'आने', 'शब्दों', 'संस्कृत', 'हिन्दी', 'केवल', 'शब्द', 'शब्द', 'जन्म', 'संस्कृत', 'ऐतिहासिक', 'शब्द', 'अर्थ', 'देश', 'बना', 'शब्द', 'अर्थ', 'न', 'विदेशी', 'भाषा', 'न', 'भाषा', 'शब्द', 'बना', 'शब्द', 'न', 'संस्कृत', 'न', 'शब्द', 'प्रदेश', 'क्षेत्र', 'लोगों', 'बना', 'शब्द', 'अतिरिक्त', 'हिन्दी', 'शब्द', 'अरबी', 'फ़ारसी', 'अंग्रेजी', 'विदेशी', 'अरबी', 'फ़ारसी', 'अंग्रेजी', 'शब्द', 'लगभग', 'पूर्ण', 'रूप', 'शब्दों', 'प्रयोग', 'हिन्दी', 'लिपि', 'हिन्दी', 'आधुनिक', 'हिन्दी', 'उच्चारण', 'मध्य', 'हिन्दी', 'संस्कृत', 'स्वर', 'उच्चारण', 'संस्कृत', 'आधुनिक', 'हिन्दी', 'वर्ण', 'स्वर', 'प्रयोग', 'रूप', 'स्वर', 'माना', 'स्वर', 'अतिरिक्त', 'जिसका', 'प्रयोग', 'हिन्दी', 'नहीं', 'वैदिक', 'संस्कृत', 'उच्चारण', 'ओर', 'शुक्ल', 'यजुर्वेद', 'शाखा', 'उच्चारण', 'आधुनिक', 'हिन्दी', 'उच्चारण', 'उच्चारण', 'परन्तु', 'उच्चारण', 'न', 'स्वर', 'अरबी', 'फ़ारसी', 'भाषाओं', 'शब्दों', 'मूल', 'उच्चारण', 'स्रोत', 'संस्कृत', 'नहीं', 'देवनागरी', 'लिपि', 'सबसे', 'देवनागरी', 'वर्ण', 'उच्चारण', 'उदाहरण', 'भाषाओं', 'हिन्दी', 'वाला', 'हिन्दी', 'भाषा', 'रूप', 'हिन्दी', 'प्रभावित', 'भारतीय', 'हिन्दी', 'भारतीय', 'लोगों', 'हिन्दी', 'मूल', 'भाषा', 'भारत', 'हिन्दी', 'संयुक्त', 'राज्य', 'अमेरिका', 'दक्षिण', 'हिन्दी', 'बोली', 'वाली', 'मध्य', 'वाली', 'भाषा', 'भाषा', 'राष्ट्रीय', 'स्वरूप', 'हिन्दी', 'भारत', 'भाषा', 'रूप', 'भाषा', 'रूप', 'हिन्दी', 'व्यवहार', 'बोली', 'वाली', 'कारण', 'हिन्दी', 'देश', 'वाली', 'भारत', 'हिन्दी', 'भारत', 'रूप', 'लोग', 'हिन्दी', 'भारतीय', 'संविधान', 'उल्लेख', 'नहीं', 'दृष्टि', 'हिन्दी', 'अर्थ', 'हिन्दी', 'साहित्य', 'उन्होंने', 'हिन्दी', 'भारत', 'राष्ट्र', 'हिन्दी', 'भाषा', 'गीत', 'भाषा', 'परन्तु', 'भाषा', 'नहीं', 'संस्कृत', 'भारत', 'अनेक', 'करती', 'भाषाएँ', 'इनमें', 'प्रमुख', 'भाषाओं', 'केवल', 'भारतीय', 'संविधान', 'राज्यों', 'हिन्दी', 'भाषा', 'प्रयोग', 'हिन्दी', 'हिन्दी', 'रूप', 'वर्ष', 'भारतीय', 'स्थापना', 'वैष्णव', 'होकर', 'हिन्दी', 'रूप', 'वर्ष', 'हिन्दी', 'स्थापना', 'लोगों', 'हिन्दी', 'भाषा', 'साहित्य', 'भारत', 'हिन्दी', 'प्रदेश', 'हिन्दी', 'बोली', 'हिन्दी', 'शिक्षा', 'हिन्दी', 'भाषा', 'प्रयोग', 'पूर्व', 'संख्या', 'दृष्टि', 'विश्व', 'बोली', 'वाली', 'भाषाओं', 'हिन्दी', 'सन्', 'भारतीय', 'भाषाओं', 'ग्रन्थ', 'प्रकाशित', 'संसार', 'भाषाओं', 'सन्', 'आधार', 'भारत', 'सरकार', 'हिन्दी', 'विश्व', 'स्तर', 'संख्या', 'दृष्टि', 'संसार', 'भाषाओं', 'भाषा', 'हिन्दी', 'भाषा', 'संख्या', 'हिन्दी', 'भाषा', 'भाषा', 'प्रयोग', 'क्षेत्र', 'हिन्दी', 'अंग्रेजी', 'भाषा', 'प्रयोग', 'क्षेत्र', 'हिन्दी', 'संख्या', 'अंग्रेजी', 'हिन्दी', 'सदी', 'हिन्दी', 'विकास', 'हिन्दी', 'एशिया', 'स्वरूप', 'भाषा', 'रूप', 'संगीत', 'क्षेत्र', 'हिन्दी', 'भाषा', 'नहीं', 'विश्व', 'लगभग', 'स्तर', 'स्तर', 'हिन्दी', 'व्यवस्था', 'लगभग', 'रूप', 'हिन्दी', 'प्रकाशित', 'अनेक', 'देश', 'हिन्दी', 'जिनमें', 'चीन', 'हिन्दी', 'विशेष', 'रूप', 'विश्व', 'आर्थिक', 'भाषाओं', 'हिन्दी', 'प्रकार', 'नामक', 'महत्वपूर्ण', 'भाषाओं', 'हिन्दी', 'भाषा', 'बोली', 'करोड़', 'लोग', 'परिवार', 'यूरोपीय', 'परिवार', 'शाखा', 'हिन्दी', 'फ़ारसी', 'संस्कृत', 'उर्दू', 'हिन्दी', 'शब्द', 'लिपि', 'भारतीय', 'उपमहाद्वीप', 'फ़ारसी', 'भाषा', 'प्रयोग', 'भाषा', 'रूप', 'कारण', 'भाषा', 'परिवार', 'शाखा', 'भाषाओं', 'पश्चिमी', 'हालाँकि', 'भारतीय', 'उपमहाद्वीप', 'फ़ारसी', 'अरबी', 'भाषा', 'दृष्टि', 'अरबी', 'संस्कृत', 'संस्कृत', 'फ़ारसी', 'शब्द', 'फ़ारसी', 'संस्कृत', 'संस्कृत', 'फ़ारसी', 'जीवन', 'फ़ारसी', 'मूल', 'नाम', 'अरब', 'लोग', 'सदी', 'अक्षर', 'नहीं', 'कारण', 'फ़ारसी', 'नाम', 'भारत', 'लोग', 'जिसके', 'कारण', 'भाषा', 'नाम', 'यूरोपीय', 'भाषाओं', 'भाषा', 'भाषा', 'परिवार', 'शाखा', 'भाषा', 'तीन', 'रूप', 'मध्य', 'आधुनिक', 'इतिहास', 'तीन', 'युग', 'साम्राज्य', 'युग', 'वाला', 'ईसा', 'पूर्व', 'मध्य', 'युग', 'युग', 'वाला', 'युग', 'वर्तमान', 'दिन', 'अनुसार', 'फ़ारसी', 'भाषा', 'केवल', 'भाषा', 'जिसके', 'मध्य', 'फ़ारसी', 'फारसी', 'भाषा', 'फ़ारसी', 'मध्य', 'फारसी', 'एशिया', 'भाषा', 'पश्चिम', 'एशिया', 'मध्य', 'एशिया', 'दक्षिण', 'क्षेत्र', 'आधुनिक', 'भाषाओं', 'निर्माण', 'प्रभावित', 'दक्षिण', 'एशिया', 'फारसी', 'सबसे', 'क्षेत्र', 'ब्रिटिश', 'स्थापना', 'पूर्व', 'फारसी', 'व्यापक', 'रूप', 'भारतीय', 'उपमहाद्वीप', 'भाषा', 'रूप', 'उपमहाद्वीप', 'मुस्लिम', 'संस्कृति', 'शिक्षा', 'भाषा', 'रूप', 'हालाँकि', 'शुरू', 'अंग्रेजी', 'उपमहाद्वीप', 'फ़ारसी', 'फ़ारसी', 'ऐतिहासिक', 'प्रभाव', 'भारतीय', 'उपमहाद्वीप', 'भाषाओं', 'प्रभाव', 'फारसी', 'शब्द', 'भाषाओं', 'उपयोग', 'मुख्य', 'दक्षिण', 'साम्राज्य', 'साम्राज्य', 'साम्राज्य', 'साम्राज्य', 'फ़ारसी', 'फारसी', 'फ़ारसी', 'फारसी', 'बोली', 'राज्यों', 'फ़ारसी', 'फ़ारसी', 'फ़ारसी', 'फारसी', 'बोली', 'लिपि', 'फारसी', 'संबंधित', 'दक्षिण', 'पश्चिमी', 'मुख्य', 'रूप', 'बोली', 'पश्चिमी', 'भाग', 'फ़ारसी', 'स्वर', 'हालाँकि', 'संख्या', 'काल', 'व्यक्ति', 'संख्या', 'विषय', 'फारसी', 'नहीं', 'न', 'प्राकृतिक', 'अरबी', 'भाषा', 'प्रभाव', 'भाषाओं', 'मूल', 'मध्य', 'फारसी', 'मूल', 'फारसी', 'अरबी', 'अरबी', 'मूल', 'फारसी', 'शब्दों', 'विशेष', 'रूप', 'शब्द', 'शामिल', 'भारतीय', 'भाषाओं', 'अरबी', 'तौर', 'फ़ारसी', 'फारसी', 'विशाल', 'अरबी', 'लिपि', 'लिखा', 'मध्य', 'एशिया', 'भाषाओं', 'प्रभावित', 'फारसी', 'बोली', 'माना', 'लिपि', 'प्रमुख', 'भारतीय', 'उपमहाद्वीप', 'प्राचीन', 'लिपि', 'आधारित', 'प्राचीन', 'भारत', 'शताब्दी', 'विकसित', 'वीं', 'शताब्दी', 'उपयोग', 'देवनागरी', 'लिपि', 'स्वर', 'वर्ण', 'दुनिया', 'सबसे', 'व्यापक', 'रूप', 'वाली', 'जिसका', 'उपयोग', 'भाषा', 'उच्चारण', 'लिपि', 'लिपि', 'अक्षर', 'नहीं', 'लिखा', 'रूप', 'जाना', 'पूर्ण', 'दृष्टि', 'देवनागरी', 'लिपि', 'भारतीय', 'लिपियों', 'नागरी', 'लिपि', 'लिपि', 'अलग', 'दिखाई', 'भाषाओं', 'देवनागरी', 'शब्द', 'नहीं', 'देवनागरी', 'विकास', 'लिपि', 'लिपि', 'लिपियों', 'अरबी', 'सबसे', 'वैज्ञानिक', 'वैज्ञानिक', 'व्यापक', 'लिपि', 'केवल', 'लिपि', 'भारत', 'देवनागरी', 'भारतीय', 'लिपियों', 'भाषाओं', 'शब्द', 'ध्वनि', 'देवनागरी', 'लिपि', 'लिखा', 'लिखे', 'लगभग', 'उच्चारण', 'लिपि', 'लिपियों', 'नहीं', 'विशेष', 'न', 'स्वर', 'क्रम', 'व्यवस्था', 'वैज्ञानिक', 'वैज्ञानिक', 'मत', 'अनुसार', 'कारण', 'नाम', 'देवनागरी', 'एशिया', 'अनेक', 'लिपियों', 'देवनागरी', 'अलग', 'परन्तु', 'उच्चारण', 'देवनागरी', 'क्योंकि', 'लिपि', 'उर्दू', 'लिपियों', 'देवनागरी', 'दृष्टि', 'दृष्टि', 'दृष्टि', 'शब्द', 'नागरी', 'नाम', 'प्रयोग', 'सम्बन्ध', 'मत', 'दक्षिण', 'प्राचीन', 'नाम', 'लिपि', 'लिखा', 'नागरी', 'संस्कृत', 'ग्रंथ', 'लिखे', 'देवताओं', 'नाम', 'लिपि', 'देवनागरी', 'नागरी', 'सब', 'मूल', 'लिपि', 'उपयोग', 'वाली', 'भाषा', 'शब्द', 'देवनागरी', 'भारत', 'दक्षिण', 'पूर्व', 'एशिया', 'लिपियों', 'लिपि', 'परिवार', 'प्राप्त', 'भाषा', 'संस्कृत', 'लिपि', 'नागरी', 'लिपि', 'नागरी', 'लिपि', 'देवनागरी', 'देवनागरी', 'प्रथम', 'शताब्दी', 'भारत', 'देवनागरी', 'उपयोग', 'नागरी', 'प्रथम', 'शताब्दी', 'लिपि', 'देवनागरी', 'देवनागरी', 'वर्तमान', 'स्वरूप', 'देवनागरी', 'उपयोग', 'ई', 'अध्ययन', 'स्पष्ट', 'नागरी', 'लिपियों', 'लिपि', 'नागरी', 'लिपि', 'उदाहरण', 'शताब्दी', 'लिपि', 'रूप', 'प्रदेश', 'देवनागरी', 'शताब्दी', 'देवनागरी', 'रूप', 'उपयोग', 'लगभग', 'ई', 'देवनागरी', 'पूर्ण', 'अनुसार', 'देवनागरी', 'लिपि', 'प्रयोग', 'ई', 'मिलता', 'शताब्दी', 'लिपि', 'राजा', 'मिलता', 'देवनागरी', 'प्रथम', 'लिपि', 'देवनागरी', 'शताब्दी', 'शताब्दी', 'देवनागरी', 'लिपि', 'राजा', 'शताब्दी', 'देवनागरी', 'व्यवहार', 'राजा', 'देवनागरी', 'पुस्तक', 'सबसे', 'प्राचीन', 'रूप', 'वर्णन', 'देवनागरी', 'लिपि', 'संस्कृत', 'देवनागरी', 'लिपि', 'व्यवहार', 'देवनागरी', 'प्रथम', 'देवनागरी', 'अक्षर', 'किये', 'अकबर', 'देवनागरी', 'नाम', 'दृष्टि', 'दृष्टि', 'देवनागरी', 'लिपि', 'लिपि', 'लिपि', 'दृष्टि', 'लिपियों', 'स्तर', 'लिपियों', 'विकास', 'माना', 'अनेक', 'भारतीय', 'मत', 'लिपि']\n"
     ]
    }
   ],
   "source": [
    "print(\"Number of tokens is: \", len(tokens))\n",
    "print(\"Size of the vocabulary: \", vocabulary_size)\n",
    "print(\"First 1500 words of the Vocabulary: \", words_list[:1500])\n"
   ]
  },
  {
   "cell_type": "markdown",
   "metadata": {},
   "source": [
    "Create co-occurrence matrix based on grams with timing and memory measurement.\n"
   ]
  },
  {
   "cell_type": "code",
   "execution_count": 11,
   "metadata": {},
   "outputs": [
    {
     "name": "stdout",
     "output_type": "stream",
     "text": [
      "Memory location of create_matrix: 1398453161632\n"
     ]
    },
    {
     "name": "stderr",
     "output_type": "stream",
     "text": [
      "14906it [00:00, 19769.20it/s]"
     ]
    },
    {
     "name": "stdout",
     "output_type": "stream",
     "text": [
      "Execution time of wrapper: 0.7540011405944824 seconds\n"
     ]
    },
    {
     "name": "stderr",
     "output_type": "stream",
     "text": [
      "\n"
     ]
    }
   ],
   "source": [
    "\n",
    "cocrmat = np.zeros((len(distinct_vocab),len(distinct_vocab)),dtype=np.int64)\n",
    "\n",
    "@calculate_time\n",
    "@memory_location\n",
    "def create_matrix():\n",
    "\t\n",
    "\tramp=[0,1,2,3,4,5]\n",
    "\n",
    "\tfor gram in tqdm(grams):\n",
    "\n",
    "\t\tx=list(gram)\n",
    "\n",
    "\t\tif x[0] in distinct_vocab:\n",
    "\t\t\tfor i in range(1,len(x)):\n",
    "\t\t\t\tif x[i] in distinct_vocab:\n",
    "\t\t\t\t\tcocrmat[distinct_vocab.index(x[0])][distinct_vocab.index(x[i])] += 5-ramp[i]\n",
    "\t\t\t\t\t\n",
    "\t\tx.reverse()\n",
    "\t\n",
    "\t\tif x[0] in distinct_vocab:\n",
    "\t\t\tfor i in range(1,len(x)):\n",
    "\t\t\t\tif x[i] in distinct_vocab:\n",
    "\t\t\t\t\tcocrmat[distinct_vocab.index(x[0])][distinct_vocab.index(x[i])] += 5-ramp[i]\n",
    "\t\t\n",
    "create_matrix()\n"
   ]
  },
  {
   "cell_type": "markdown",
   "metadata": {},
   "source": [
    "Calculate probability and generate PPMI matrix with timing and memory measurement.\n"
   ]
  },
  {
   "cell_type": "code",
   "execution_count": 12,
   "metadata": {},
   "outputs": [],
   "source": [
    "\n",
    "@calculate_time\n",
    "@memory_location\n",
    "def calculate_probability(matrix):\n",
    "    \n",
    "    # Calculate row sums and column sums\n",
    "    row_sums = np.sum(matrix, axis=1)\n",
    "    col_sums = np.sum(matrix, axis=0)\n",
    "\n",
    "    # Total co-occurrences\n",
    "    N = np.sum(matrix)\n",
    "\n",
    "    if(N==0):\n",
    "        return 0,0\n",
    "\n",
    "    # Calculate pi and pj\n",
    "    pI = row_sums / N\n",
    "    pJ = col_sums / N\n",
    "\n",
    "    global pi,pj\n",
    "\n",
    "    pi,pj=pI,pJ\n",
    " \n",
    " \n",
    "@calculate_time\n",
    "@memory_location\n",
    "def gen_ppmi_matrix(matrix):\n",
    "    co_occurrence_matrix=matrix\n",
    " \n",
    "    ppmi = np.zeros((len(distinct_vocab), len(distinct_vocab)))\n",
    "\n",
    "    row_sums = np.sum(co_occurrence_matrix, axis=1)\n",
    "    for i in tqdm(range(len(distinct_vocab))):\n",
    "        for j in range(len(distinct_vocab)):\n",
    "\n",
    "            if (row_sums[i] == 0 or co_occurrence_matrix[i][j] == 0):\n",
    "                ppmi[i][j] = 0\n",
    "                continue\n",
    "            pij = ((co_occurrence_matrix[i][j]))/row_sums[i]\n",
    "            ppmi[i][j] = max(0, math.log2(pij/(pi[i]*pj[j])))\n",
    "\n",
    "    return ppmi\n"
   ]
  },
  {
   "cell_type": "markdown",
   "metadata": {},
   "source": [
    "Calculate probability and generate PPMI matrix.\n"
   ]
  },
  {
   "cell_type": "code",
   "execution_count": 13,
   "metadata": {},
   "outputs": [
    {
     "name": "stdout",
     "output_type": "stream",
     "text": [
      "Memory location of calculate_probability: 1398453165952\n",
      "Execution time of wrapper: 0.002025604248046875 seconds\n",
      "Memory location of gen_ppmi_matrix: 1398453163872\n"
     ]
    },
    {
     "name": "stderr",
     "output_type": "stream",
     "text": [
      "100%|██████████| 316/316 [00:00<00:00, 3635.70it/s]"
     ]
    },
    {
     "name": "stdout",
     "output_type": "stream",
     "text": [
      "Execution time of wrapper: 0.09158563613891602 seconds\n"
     ]
    },
    {
     "name": "stderr",
     "output_type": "stream",
     "text": [
      "\n"
     ]
    }
   ],
   "source": [
    "calculate_probability(cocrmat)\n",
    "ppmi_matrix=gen_ppmi_matrix(cocrmat)\n"
   ]
  },
  {
   "cell_type": "markdown",
   "metadata": {},
   "source": [
    "Script to find the most common elements in a list.\n"
   ]
  },
  {
   "cell_type": "code",
   "execution_count": 14,
   "metadata": {},
   "outputs": [
    {
     "name": "stderr",
     "output_type": "stream",
     "text": [
      "  0%|          | 0/42667 [00:00<?, ?it/s]"
     ]
    },
    {
     "name": "stderr",
     "output_type": "stream",
     "text": [
      "100%|██████████| 42667/42667 [00:00<00:00, 2490721.90it/s]\n"
     ]
    }
   ],
   "source": [
    "from collections import Counter\n",
    "\n",
    "my_list = gen_vocab()\n",
    "counter = Counter(my_list)\n",
    "common_elements = counter.most_common(10)\n",
    "most_common_elements=[a for (a,_) in common_elements]"
   ]
  },
  {
   "cell_type": "markdown",
   "metadata": {},
   "source": [
    "Script to find nearest neighbors for each noun in a given list.\n"
   ]
  },
  {
   "cell_type": "code",
   "execution_count": 15,
   "metadata": {},
   "outputs": [
    {
     "name": "stdout",
     "output_type": "stream",
     "text": [
      "Memory location of nearest_seq: 1398453166752\n"
     ]
    },
    {
     "name": "stderr",
     "output_type": "stream",
     "text": [
      "  0%|          | 0/10 [00:00<?, ?it/s]"
     ]
    },
    {
     "name": "stderr",
     "output_type": "stream",
     "text": [
      "100%|██████████| 315/315 [00:00<00:00, 3795.68it/s]\n",
      "100%|██████████| 315/315 [00:00<00:00, 5201.33it/s]\n",
      "100%|██████████| 315/315 [00:00<00:00, 5179.17it/s]\n",
      "100%|██████████| 315/315 [00:00<00:00, 4467.47it/s]\n",
      "100%|██████████| 315/315 [00:00<00:00, 4960.02it/s]\n",
      "100%|██████████| 315/315 [00:00<00:00, 5254.87it/s]\n",
      "100%|██████████| 315/315 [00:00<00:00, 4458.04it/s]\n",
      "100%|██████████| 315/315 [00:00<00:00, 5123.47it/s]\n",
      "100%|██████████| 315/315 [00:00<00:00, 4564.79it/s]\n",
      "100%|██████████| 315/315 [00:00<00:00, 4987.88it/s]\n",
      "100%|██████████| 10/10 [00:00<00:00, 13.39it/s]"
     ]
    },
    {
     "name": "stdout",
     "output_type": "stream",
     "text": [
      "Execution time of wrapper: 0.7549777030944824 seconds\n",
      "Words similar to  रूप  :\n",
      "   नहीं  :  0.9419451759461548\n",
      "   भारतीय  :  0.889302376371782\n",
      "   भारत  :  0.8725292899568924\n",
      "   नाम  :  0.8658936670580452\n",
      "   अनुसार  :  0.8584788816049529\n",
      "   सबसे  :  0.857209523336516\n",
      "   कारण  :  0.8563443062949164\n",
      "   शब्द  :  0.8556091594530136\n",
      "   प्रकार  :  0.8464437759920724\n",
      "   भाषा  :  0.8440236096542005\n",
      "   अर्थ  :  0.8281050715542241\n",
      "Words similar to  भारत  :\n",
      "   रूप  :  0.8725292899568924\n",
      "   भारतीय  :  0.871773948585898\n",
      "   नहीं  :  0.8518336004742406\n",
      "   सबसे  :  0.8403134833450826\n",
      "   भाषा  :  0.838068788753336\n",
      "   क्षेत्र  :  0.8274030404852076\n",
      "   अनुसार  :  0.7955146150217367\n",
      "   धर्म  :  0.782202244633452\n",
      "   नाम  :  0.782119156730583\n",
      "   संस्कृत  :  0.7808500169542222\n",
      "   हिन्दी  :  0.7806108756572399\n",
      "Words similar to  नहीं  :\n",
      "   रूप  :  0.9419451759461548\n",
      "   भारतीय  :  0.8607626511172397\n",
      "   सबसे  :  0.8599672371073805\n",
      "   नाम  :  0.8576865717395105\n",
      "   शब्द  :  0.8546129127629498\n",
      "   भारत  :  0.8518336004742406\n",
      "   प्रकार  :  0.8425184898326141\n",
      "   भाषा  :  0.8397354324951335\n",
      "   अनुसार  :  0.837994228511189\n",
      "   कारण  :  0.8260534219922153\n",
      "   अर्थ  :  0.8257897954350588\n",
      "Words similar to  भाषा  :\n",
      "   संस्कृत  :  0.8506271255939477\n",
      "   भाषाओं  :  0.8449545844626849\n",
      "   रूप  :  0.8440236096542005\n",
      "   नहीं  :  0.8397354324951335\n",
      "   भारत  :  0.838068788753336\n",
      "   भारतीय  :  0.8224943485379314\n",
      "   हिन्दी  :  0.8109533106195335\n",
      "   शब्द  :  0.7990268106524445\n",
      "   सबसे  :  0.7969193553229156\n",
      "   नाम  :  0.7694047404250072\n",
      "   अनुसार  :  0.769293731123615\n",
      "Words similar to  धर्म  :\n",
      "   रूप  :  0.8267826720701266\n",
      "   अनुसार  :  0.8167810190785117\n",
      "   नहीं  :  0.8083208439332693\n",
      "   भारतीय  :  0.7986972875931977\n",
      "   भारत  :  0.782202244633452\n",
      "   अर्थ  :  0.7693960159541011\n",
      "   शब्द  :  0.761187386530704\n",
      "   हिंदू  :  0.7577176931315628\n",
      "   काल  :  0.7574035645068212\n",
      "   नाम  :  0.7567300829614321\n",
      "   प्राचीन  :  0.7486309842912009\n",
      "Words similar to  भारतीय  :\n",
      "   रूप  :  0.889302376371782\n",
      "   भारत  :  0.871773948585898\n",
      "   नहीं  :  0.8607626511172397\n",
      "   भाषा  :  0.8224943485379314\n",
      "   संस्कृत  :  0.8131118501119152\n",
      "   सबसे  :  0.8096926766670883\n",
      "   धर्म  :  0.7986972875931977\n",
      "   अनुसार  :  0.7980104844918439\n",
      "   कारण  :  0.7963284245631259\n",
      "   नाम  :  0.7943952718825874\n",
      "   प्राचीन  :  0.7889067100000096\n",
      "Words similar to  शब्द  :\n",
      "   रूप  :  0.8556091594530136\n",
      "   नहीं  :  0.8546129127629498\n",
      "   अर्थ  :  0.8211705040951062\n",
      "   भाषा  :  0.7990268106524445\n",
      "   नाम  :  0.7973520710342694\n",
      "   प्रयोग  :  0.7899230100279351\n",
      "   सबसे  :  0.7887357302704432\n",
      "   भारतीय  :  0.7864904898075509\n",
      "   संस्कृत  :  0.7861469314511982\n",
      "   भारत  :  0.776743664313283\n",
      "   प्राचीन  :  0.7713253176719166\n",
      "Words similar to  संस्कृत  :\n",
      "   भाषा  :  0.8506271255939477\n",
      "   भारतीय  :  0.8131118501119152\n",
      "   रूप  :  0.8076148868401872\n",
      "   भाषाओं  :  0.7993950542129581\n",
      "   नहीं  :  0.7989757940604271\n",
      "   शब्द  :  0.7861469314511982\n",
      "   भारत  :  0.7808500169542222\n",
      "   हिन्दी  :  0.7782665615698289\n",
      "   नाम  :  0.7727122801713084\n",
      "   सबसे  :  0.7677408167669376\n",
      "   लिपि  :  0.7476448456950742\n",
      "Words similar to  हिन्दी  :\n",
      "   भाषा  :  0.8109533106195335\n",
      "   भाषाओं  :  0.7934547706768763\n",
      "   भारत  :  0.7806108756572399\n",
      "   संस्कृत  :  0.7782665615698289\n",
      "   रूप  :  0.764584577662477\n",
      "   नहीं  :  0.7505856886274225\n",
      "   भारतीय  :  0.7494634837281099\n",
      "   नाम  :  0.7346419895717448\n",
      "   लिपि  :  0.7222590580835565\n",
      "   सबसे  :  0.7218588498323664\n",
      "   देवनागरी  :  0.7174436804558999\n",
      "Words similar to  नाम  :\n",
      "   रूप  :  0.8658936670580452\n",
      "   नहीं  :  0.8576865717395105\n",
      "   शब्द  :  0.7973520710342694\n",
      "   भारतीय  :  0.7943952718825874\n",
      "   सबसे  :  0.7915035926153052\n",
      "   अनुसार  :  0.7908943723632025\n",
      "   भारत  :  0.782119156730583\n",
      "   संस्कृत  :  0.7727122801713084\n",
      "   भाषा  :  0.7694047404250072\n",
      "   अर्थ  :  0.7692560079822991\n",
      "   प्रकार  :  0.7665013216323953\n"
     ]
    },
    {
     "name": "stderr",
     "output_type": "stream",
     "text": [
      "\n"
     ]
    }
   ],
   "source": [
    "import math\n",
    "\n",
    "def insert_into_sorted_list(sorted_list, element):\n",
    "\tindex = 0\n",
    "\twhile index < len(sorted_list) and sorted_list[index][1] > element[1]:\n",
    "\t\tindex += 1\n",
    "\tsorted_list.insert(index, element)\n",
    "\treturn sorted_list[:-1]\n",
    "\n",
    "def cosine(a,b):\n",
    "\t\tmag_a = math.sqrt(sum(component ** 2 for component in a))\n",
    "\t\tmag_b = math.sqrt(sum(component ** 2 for component in b))\n",
    "\t\tdot_product = sum(ai * bi for ai, bi in zip(a, b))\n",
    "\t\tif mag_a == 0 or mag_b ==0:\n",
    "\t\t\treturn 0\n",
    "\t\telse:\n",
    "\t\t\treturn dot_product/(mag_a*mag_b)\n",
    "\n",
    "def find_nearest_neighbor_of_noun(index):\n",
    "\tl=[(distinct_vocab[0],(cosine(ppmi_matrix[index], ppmi_matrix[0]))) for _ in range(11)]\n",
    "\tfor i in tqdm(range(1,len(distinct_vocab))):\n",
    "\t\tif i!=index and cosine(ppmi_matrix[index],ppmi_matrix[i])>l[10][1]:\n",
    "\t\t\t\tl=insert_into_sorted_list(l,(distinct_vocab[i],(cosine(ppmi_matrix[index], ppmi_matrix[i]))))\n",
    "\treturn l\n",
    "\n",
    "nearest_neighbour_dict={}\n",
    "\n",
    "@calculate_time\n",
    "@memory_location\n",
    "def nearest_seq():\n",
    "\tfor x in tqdm(most_common_elements):\n",
    "\t\tnearest_neighbour_dict[x]=find_nearest_neighbor_of_noun(distinct_vocab.index(x))\n",
    "\n",
    "nearest_seq()\n",
    "\n",
    "for i in nearest_neighbour_dict:\n",
    "\tprint(\"Words similar to \",i,\" :\")\n",
    "\tfor j in nearest_neighbour_dict[i]:\n",
    "\t\tprint (\"  \",j[0],\" : \",j[1])\n"
   ]
  },
  {
   "cell_type": "markdown",
   "metadata": {},
   "source": [
    "Parallelized co-occurrence matrix generation using multiprocessing.\n"
   ]
  },
  {
   "cell_type": "code",
   "execution_count": 16,
   "metadata": {},
   "outputs": [
    {
     "name": "stdout",
     "output_type": "stream",
     "text": [
      "Memory location of create_matrix_p: 1399103470016\n"
     ]
    },
    {
     "name": "stderr",
     "output_type": "stream",
     "text": [
      "0it [00:00, ?it/s]"
     ]
    },
    {
     "name": "stderr",
     "output_type": "stream",
     "text": [
      "14906it [03:07, 79.36it/s] \n"
     ]
    },
    {
     "name": "stdout",
     "output_type": "stream",
     "text": [
      "Execution time of wrapper: 188.86974334716797 seconds\n"
     ]
    }
   ],
   "source": [
    "n = vocabulary_size  # Size of the vocabulary\n",
    "p_mat = multiprocessing.Array('d', n*n)  # Shared memory array to store partial co-occurrence matrix\n",
    "\n",
    "def compile_grams(gram, p_mat):\n",
    "    \"\"\"\n",
    "    Compile co-occurrence counts for a gram and update the shared memory array.\n",
    "\n",
    "    Args:\n",
    "        gram (tuple): The gram to compile co-occurrence counts for.\n",
    "        p_mat (multiprocessing.Array): Shared memory array to store partial co-occurrence matrix.\n",
    "\n",
    "    Returns:\n",
    "        None\n",
    "    \"\"\"\n",
    "    ramp = [0, 1, 2, 3, 4, 5]  # Ramp sequence for weight calculation\n",
    "    leng = len(distinct_vocab)  # Length of the distinct vocabulary\n",
    "\n",
    "    x = list(gram)\n",
    "\n",
    "    # Forward pass\n",
    "    if x[0] in distinct_vocab:\n",
    "        for i in range(1, len(x)):\n",
    "            if x[i] in distinct_vocab:\n",
    "                # Update co-occurrence count based on weight\n",
    "                p_mat[distinct_vocab.index(x[0]) * leng + distinct_vocab.index(x[i])] += 5 - ramp[i]\n",
    "\n",
    "    x.reverse()\n",
    "\n",
    "    # Backward pass\n",
    "    if x[0] in distinct_vocab:\n",
    "        for i in range(1, len(x)):\n",
    "            if x[i] in distinct_vocab:\n",
    "                # Update co-occurrence count based on weight\n",
    "                p_mat[distinct_vocab.index(x[0]) * leng + distinct_vocab.index(x[i])] += 5 - ramp[i]\n",
    "\n",
    "@calculate_time\n",
    "@memory_location\n",
    "def create_matrix_p(p_mat):\n",
    "    \"\"\"\n",
    "    Create a co-occurrence matrix in parallel using multiprocessing.\n",
    "\n",
    "    Args:\n",
    "        p_mat (multiprocessing.Array): Shared memory array to store partial co-occurrence matrix.\n",
    "\n",
    "    Returns:\n",
    "        None\n",
    "    \"\"\"\n",
    "    grams = ngrams(tokens, 6)  # Generate ngrams of size 6\n",
    "    jobs = []\n",
    "\n",
    "    # Create a process for each gram to compile co-occurrence counts\n",
    "    for gram in tqdm(grams):\n",
    "        p = multiprocessing.Process(target=compile_grams, args=(gram, p_mat,))\n",
    "        p.start()\n",
    "        jobs.append(p)\n",
    "\n",
    "    # Wait for all processes to finish\n",
    "    for job in jobs:\n",
    "        job.join()\n",
    "\n",
    "# Create the co-occurrence matrix in parallel\n",
    "create_matrix_p(p_mat)\n",
    "\n",
    "# Convert the shared memory array to a numpy array\n",
    "p_matrix = np.zeros((n, n), dtype=np.int64)\n",
    "for i in range(n):\n",
    "    for j in range(n):\n",
    "        p_matrix[i][j] = p_mat[i * n + j]\n"
   ]
  },
  {
   "cell_type": "markdown",
   "metadata": {},
   "source": [
    "\n",
    "Parallel Nearest Neighbor Search"
   ]
  },
  {
   "cell_type": "code",
   "execution_count": 17,
   "metadata": {},
   "outputs": [
    {
     "name": "stdout",
     "output_type": "stream",
     "text": [
      "Memory location of nearest_seq: 1398453166752\n"
     ]
    },
    {
     "name": "stderr",
     "output_type": "stream",
     "text": [
      "  0%|          | 0/10 [00:00<?, ?it/s]"
     ]
    },
    {
     "name": "stderr",
     "output_type": "stream",
     "text": [
      "100%|██████████| 315/315 [00:00<00:00, 3795.68it/s]\n",
      "100%|██████████| 315/315 [00:00<00:00, 5201.33it/s]\n",
      "100%|██████████| 315/315 [00:00<00:00, 5179.17it/s]\n",
      "100%|██████████| 315/315 [00:00<00:00, 4467.47it/s]\n",
      "100%|██████████| 315/315 [00:00<00:00, 4960.02it/s]\n",
      "100%|██████████| 315/315 [00:00<00:00, 5254.87it/s]\n",
      "100%|██████████| 315/315 [00:00<00:00, 4458.04it/s]\n",
      "100%|██████████| 315/315 [00:00<00:00, 5123.47it/s]\n",
      "100%|██████████| 315/315 [00:00<00:00, 4564.79it/s]\n",
      "100%|██████████| 315/315 [00:00<00:00, 4987.88it/s]\n",
      "100%|██████████| 10/10 [00:00<00:00, 13.39it/s]"
     ]
    },
    {
     "name": "stdout",
     "output_type": "stream",
     "text": [
      "Execution time of wrapper: 0.0562656752178425 seconds\n",
      "Words similar to  रूप  :\n",
      "   नहीं  :  0.9419451759461548\n",
      "   भारतीय  :  0.889302376371782\n",
      "   भारत  :  0.8725292899568924\n",
      "   नाम  :  0.8658936670580452\n",
      "   अनुसार  :  0.8584788816049529\n",
      "   सबसे  :  0.857209523336516\n",
      "   कारण  :  0.8563443062949164\n",
      "   शब्द  :  0.8556091594530136\n",
      "   प्रकार  :  0.8464437759920724\n",
      "   भाषा  :  0.8440236096542005\n",
      "   अर्थ  :  0.8281050715542241\n",
      "Words similar to  भारत  :\n",
      "   रूप  :  0.8725292899568924\n",
      "   भारतीय  :  0.871773948585898\n",
      "   नहीं  :  0.8518336004742406\n",
      "   सबसे  :  0.8403134833450826\n",
      "   भाषा  :  0.838068788753336\n",
      "   क्षेत्र  :  0.8274030404852076\n",
      "   अनुसार  :  0.7955146150217367\n",
      "   धर्म  :  0.782202244633452\n",
      "   नाम  :  0.782119156730583\n",
      "   संस्कृत  :  0.7808500169542222\n",
      "   हिन्दी  :  0.7806108756572399\n",
      "Words similar to  नहीं  :\n",
      "   रूप  :  0.9419451759461548\n",
      "   भारतीय  :  0.8607626511172397\n",
      "   सबसे  :  0.8599672371073805\n",
      "   नाम  :  0.8576865717395105\n",
      "   शब्द  :  0.8546129127629498\n",
      "   भारत  :  0.8518336004742406\n",
      "   प्रकार  :  0.8425184898326141\n",
      "   भाषा  :  0.8397354324951335\n",
      "   अनुसार  :  0.837994228511189\n",
      "   कारण  :  0.8260534219922153\n",
      "   अर्थ  :  0.8257897954350588\n",
      "Words similar to  भाषा  :\n",
      "   संस्कृत  :  0.8506271255939477\n",
      "   भाषाओं  :  0.8449545844626849\n",
      "   रूप  :  0.8440236096542005\n",
      "   नहीं  :  0.8397354324951335\n",
      "   भारत  :  0.838068788753336\n",
      "   भारतीय  :  0.8224943485379314\n",
      "   हिन्दी  :  0.8109533106195335\n",
      "   शब्द  :  0.7990268106524445\n",
      "   सबसे  :  0.7969193553229156\n",
      "   नाम  :  0.7694047404250072\n",
      "   अनुसार  :  0.769293731123615\n",
      "Words similar to  धर्म  :\n",
      "   रूप  :  0.8267826720701266\n",
      "   अनुसार  :  0.8167810190785117\n",
      "   नहीं  :  0.8083208439332693\n",
      "   भारतीय  :  0.7986972875931977\n",
      "   भारत  :  0.782202244633452\n",
      "   अर्थ  :  0.7693960159541011\n",
      "   शब्द  :  0.761187386530704\n",
      "   हिंदू  :  0.7577176931315628\n",
      "   काल  :  0.7574035645068212\n",
      "   नाम  :  0.7567300829614321\n",
      "   प्राचीन  :  0.7486309842912009\n",
      "Words similar to  भारतीय  :\n",
      "   रूप  :  0.889302376371782\n",
      "   भारत  :  0.871773948585898\n",
      "   नहीं  :  0.8607626511172397\n",
      "   भाषा  :  0.8224943485379314\n",
      "   संस्कृत  :  0.8131118501119152\n",
      "   सबसे  :  0.8096926766670883\n",
      "   धर्म  :  0.7986972875931977\n",
      "   अनुसार  :  0.7980104844918439\n",
      "   कारण  :  0.7963284245631259\n",
      "   नाम  :  0.7943952718825874\n",
      "   प्राचीन  :  0.7889067100000096\n",
      "Words similar to  शब्द  :\n",
      "   रूप  :  0.8556091594530136\n",
      "   नहीं  :  0.8546129127629498\n",
      "   अर्थ  :  0.8211705040951062\n",
      "   भाषा  :  0.7990268106524445\n",
      "   नाम  :  0.7973520710342694\n",
      "   प्रयोग  :  0.7899230100279351\n",
      "   सबसे  :  0.7887357302704432\n",
      "   भारतीय  :  0.7864904898075509\n",
      "   संस्कृत  :  0.7861469314511982\n",
      "   भारत  :  0.776743664313283\n",
      "   प्राचीन  :  0.7713253176719166\n",
      "Words similar to  संस्कृत  :\n",
      "   भाषा  :  0.8506271255939477\n",
      "   भारतीय  :  0.8131118501119152\n",
      "   रूप  :  0.8076148868401872\n",
      "   भाषाओं  :  0.7993950542129581\n",
      "   नहीं  :  0.7989757940604271\n",
      "   शब्द  :  0.7861469314511982\n",
      "   भारत  :  0.7808500169542222\n",
      "   हिन्दी  :  0.7782665615698289\n",
      "   नाम  :  0.7727122801713084\n",
      "   सबसे  :  0.7677408167669376\n",
      "   लिपि  :  0.7476448456950742\n",
      "Words similar to  हिन्दी  :\n",
      "   भाषा  :  0.8109533106195335\n",
      "   भाषाओं  :  0.7934547706768763\n",
      "   भारत  :  0.7806108756572399\n",
      "   संस्कृत  :  0.7782665615698289\n",
      "   रूप  :  0.764584577662477\n",
      "   नहीं  :  0.7505856886274225\n",
      "   भारतीय  :  0.7494634837281099\n",
      "   नाम  :  0.7346419895717448\n",
      "   लिपि  :  0.7222590580835565\n",
      "   सबसे  :  0.7218588498323664\n",
      "   देवनागरी  :  0.7174436804558999\n",
      "Words similar to  नाम  :\n",
      "   रूप  :  0.8658936670580452\n",
      "   नहीं  :  0.8576865717395105\n",
      "   शब्द  :  0.7973520710342694\n",
      "   भारतीय  :  0.7943952718825874\n",
      "   सबसे  :  0.7915035926153052\n",
      "   अनुसार  :  0.7908943723632025\n",
      "   भारत  :  0.782119156730583\n",
      "   संस्कृत  :  0.7727122801713084\n",
      "   भाषा  :  0.7694047404250072\n",
      "   अर्थ  :  0.7692560079822991\n",
      "   प्रकार  :  0.7665013216323953\n"
     ]
    },
    {
     "name": "stderr",
     "output_type": "stream",
     "text": [
      "\n"
     ]
    }
   ],
   "source": [
    "import math\n",
    "import multiprocessing\n",
    "\n",
    "# Using a multiprocessing Manager to create a shared dictionary\n",
    "neigh = multiprocessing.Manager().dict()\n",
    "\n",
    "def p_insert_into_sorted_list(sorted_list, element):\n",
    "    \"\"\"\n",
    "    Insert an element into a sorted list in descending order based on the second value of each tuple.\n",
    "\n",
    "    Args:\n",
    "        sorted_list (list): The sorted list to insert the element into.\n",
    "        element (tuple): The element to insert into the sorted list.\n",
    "\n",
    "    Returns:\n",
    "        list: The sorted list with the new element inserted.\n",
    "    \"\"\"\n",
    "    index = 0\n",
    "    while index < len(sorted_list) and sorted_list[index][1] > element[1]:\n",
    "        index += 1\n",
    "    sorted_list.insert(index, element)\n",
    "    return sorted_list[:-1]\n",
    "\n",
    "def p_cosine(a, b):\n",
    "    \"\"\"\n",
    "    Calculate the cosine similarity between two vectors.\n",
    "\n",
    "    Args:\n",
    "        a (list): First vector.\n",
    "        b (list): Second vector.\n",
    "\n",
    "    Returns:\n",
    "        float: Cosine similarity between the two vectors.\n",
    "    \"\"\"\n",
    "    mag_a = math.sqrt(sum(component ** 2 for component in a))\n",
    "    mag_b = math.sqrt(sum(component ** 2 for component in b))\n",
    "    dot_product = sum(ai * bi for ai, bi in zip(a, b))\n",
    "    if mag_a == 0 or mag_b == 0:\n",
    "        return 0\n",
    "    else:\n",
    "        return dot_product / (mag_a * mag_b)\n",
    "\n",
    "def p_find_nearest_neighbor_of_noun(index, neigh):\n",
    "    \"\"\"\n",
    "    Find the nearest neighbors of a noun in the ppmi_matrix in parallel.\n",
    "\n",
    "    Args:\n",
    "        index (int): Index of the noun in the distinct_vocab.\n",
    "        neigh (multiprocessing.Manager().dict): Shared dictionary to store nearest neighbors.\n",
    "\n",
    "    Returns:\n",
    "        None\n",
    "    \"\"\"\n",
    "    # Initialize a list with the first noun and its cosine similarity score\n",
    "    l = [(distinct_vocab[0], (p_cosine(ppmi_matrix[index], ppmi_matrix[0]))) for _ in range(11)]\n",
    "    \n",
    "    # Iterate over other nouns\n",
    "    for i in tqdm(range(1, n)):\n",
    "        if i != index:\n",
    "            if p_cosine(ppmi_matrix[index], ppmi_matrix[i]) > l[10][1]:\n",
    "                # Update the list with the nearest neighbors\n",
    "                l = p_insert_into_sorted_list(l, (distinct_vocab[i], (p_cosine(ppmi_matrix[index], ppmi_matrix[i]))))\n",
    "\n",
    "    # Store the list of nearest neighbors in the shared dictionary\n",
    "    neigh[distinct_vocab[index]] = l\n",
    "\n",
    "@calculate_time\n",
    "@memory_location\n",
    "def parallel_nearest():\n",
    "    \"\"\"\n",
    "    Find nearest neighbors for each noun in most_common_elements in parallel.\n",
    "\n",
    "    Returns:\n",
    "        None\n",
    "    \"\"\"\n",
    "    jobs = []\n",
    "    for x in (most_common_elements):\n",
    "        # Create a process for each noun to find nearest neighbors\n",
    "        p = multiprocessing.Process(target=p_find_nearest_neighbor_of_noun, args=(distinct_vocab.index(x), neigh,))\n",
    "        p.start()\n",
    "        jobs.append(p)\n",
    "\n",
    "    # Wait for all processes to finish\n",
    "    for job in jobs:\n",
    "        job.join()\n",
    "\n",
    "# Execute parallel_nearest function to find nearest neighbors for each noun in parallel\n",
    "parallel_nearest()\n",
    "\n",
    "# Print the shared dictionary containing nearest neighbors for each noun\n",
    "print(neigh)\n"
   ]
  }
 ],
 "metadata": {
  "kernelspec": {
   "display_name": "Python 3",
   "language": "python",
   "name": "python3"
  },
  "language_info": {
   "codemirror_mode": {
    "name": "ipython",
    "version": 3
   },
   "file_extension": ".py",
   "mimetype": "text/x-python",
   "name": "python",
   "nbconvert_exporter": "python",
   "pygments_lexer": "ipython3",
   "version": "3.12.3"
  }
 },
 "nbformat": 4,
 "nbformat_minor": 2
}
