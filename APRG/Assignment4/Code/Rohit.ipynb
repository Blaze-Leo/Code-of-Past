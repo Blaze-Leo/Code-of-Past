{
  "cells": [
    {
      "cell_type": "markdown",
      "metadata": {
        "id": "59VkH2ELCXqh"
      },
      "source": [
        "# NLP : Assignment 3\n",
        "### Rohit Roy | MDS202340"
      ]
    },
    {
      "cell_type": "code",
      "execution_count": null,
      "metadata": {
        "id": "fqeB8S_yCXqj"
      },
      "outputs": [],
      "source": [
        "from collections import Counter, defaultdict\n",
        "\n",
        "from nltk import ngrams, word_tokenize, sent_tokenize\n",
        "from nltk.corpus import stopwords\n",
        "\n",
        "from scipy.sparse import dok_matrix\n",
        "from scipy.spatial.distance import cosine\n",
        "from scipy.sparse.linalg import svds\n",
        "\n",
        "import numpy as np\n",
        "from tqdm import tqdm\n",
        "import math\n",
        "import matplotlib.pyplot as plt\n",
        "import matplotlib.font_manager as fm"
      ]
    },
    {
      "cell_type": "markdown",
      "metadata": {
        "id": "4xaM4HnQCXqm"
      },
      "source": [
        "#### 1. Building Vocabulary\n",
        "\n",
        "I am using the Bengali corpus from the 1st assignment, which was split into 8 files each of 100000 lines."
      ]
    },
    {
      "cell_type": "code",
      "execution_count": null,
      "metadata": {
        "id": "K9_i3E9-CXqm"
      },
      "outputs": [],
      "source": [
        "input_files = ['split/BengaliCorpus_1.txt','split/BengaliCorpus_2.txt',\n",
        "               'split/BengaliCorpus_3.txt','split/BengaliCorpus_4.txt',\n",
        "               'split/BengaliCorpus_5.txt','split/BengaliCorpus_6.txt',\n",
        "               'split/BengaliCorpus_7.txt','split/BengaliCorpus_8.txt']"
      ]
    },
    {
      "cell_type": "code",
      "execution_count": null,
      "metadata": {
        "id": "Tf2ISsKfCXqn"
      },
      "outputs": [],
      "source": [
        "# Function to generate vocab counts.\n",
        "\n",
        "def gen_unigrams(files):\n",
        "    x = Counter()   # Counter to store unigrams\n",
        "    for file in files:\n",
        "        with open(file, 'r',encoding=\"utf-8\") as f:\n",
        "            for line in tqdm(f.readlines()):\n",
        "                for sent in sent_tokenize(line):\n",
        "                    x.update([i[0] for i in ngrams(word_tokenize(sent), 1)])\n",
        "    return x"
      ]
    },
    {
      "cell_type": "code",
      "execution_count": null,
      "metadata": {
        "id": "9CjVMVMCCXqn",
        "outputId": "85b84b6f-e813-46a4-b688-c43a63a4312a"
      },
      "outputs": [
        {
          "name": "stderr",
          "output_type": "stream",
          "text": [
            "100%|██████████| 100000/100000 [00:38<00:00, 2620.31it/s]\n",
            "100%|██████████| 100000/100000 [00:08<00:00, 12408.23it/s]\n",
            "100%|██████████| 100000/100000 [00:07<00:00, 13704.21it/s]\n",
            "100%|██████████| 100000/100000 [01:10<00:00, 1423.78it/s]\n",
            "100%|██████████| 100000/100000 [01:14<00:00, 1347.75it/s]\n",
            "100%|██████████| 100000/100000 [00:36<00:00, 2759.67it/s]\n",
            "100%|██████████| 100000/100000 [00:41<00:00, 2426.42it/s]\n",
            "100%|██████████| 37824/37824 [00:15<00:00, 2479.74it/s]\n"
          ]
        }
      ],
      "source": [
        "vocab_counts = gen_unigrams(input_files)"
      ]
    },
    {
      "cell_type": "code",
      "execution_count": null,
      "metadata": {
        "id": "-CLXAIfkCXqo",
        "outputId": "b8234c9d-ca9e-43a0-dcd3-459c2ca07b89"
      },
      "outputs": [
        {
          "name": "stdout",
          "output_type": "stream",
          "text": [
            "Size of vocab : 2755120\n"
          ]
        }
      ],
      "source": [
        "print(\"Size of vocab :\",len(vocab_counts))"
      ]
    },
    {
      "cell_type": "markdown",
      "metadata": {
        "id": "xyr4zr7fCXqo"
      },
      "source": [
        "Now I remove the stopwords and those words whose counts are more than 100, to get a reduced vocabulary."
      ]
    },
    {
      "cell_type": "code",
      "execution_count": null,
      "metadata": {
        "id": "vULkEtD_CXqo"
      },
      "outputs": [],
      "source": [
        "stp = set(stopwords.words('english') + stopwords.words('bengali'))\n",
        "\n",
        "vocab = {x for x, count in vocab_counts.items() if count >= 100 and x not in stp}"
      ]
    },
    {
      "cell_type": "code",
      "execution_count": null,
      "metadata": {
        "id": "Tc0Vu9aYCXqp",
        "outputId": "722a6c74-22a0-4897-f659-bcce2ee1088d"
      },
      "outputs": [
        {
          "name": "stdout",
          "output_type": "stream",
          "text": [
            "Size of reduced vocab : 30779\n"
          ]
        }
      ],
      "source": [
        "print(\"Size of reduced vocab :\", len(vocab))"
      ]
    },
    {
      "cell_type": "markdown",
      "metadata": {
        "id": "-FjJNPbNCXqp"
      },
      "source": [
        "Now I create a dictionary that will act as index of every word in the vocab, which would also contain the words as values and the numbers as keys."
      ]
    },
    {
      "cell_type": "code",
      "execution_count": null,
      "metadata": {
        "id": "dFL50o7tCXqp"
      },
      "outputs": [],
      "source": [
        "# Number to word\n",
        "vocab_list = list(vocab)\n",
        "\n",
        "# Corresponding word to number\n",
        "vocab_pos = {vocab_list[i] : i for i in range(len(vocab_list))}\n",
        "\n",
        "# Compiling both into a dictionary\n",
        "vocab_idx = vocab_pos.copy()\n",
        "vocab_idx.update({i : w for i,w in enumerate(vocab_list)})"
      ]
    },
    {
      "cell_type": "markdown",
      "metadata": {
        "id": "2A1g-mycCXqq"
      },
      "source": [
        "#### 2. Building Co-occurance matrix\n",
        "\n",
        "The function below returns a co-occurance matrix, which is a csr matrix."
      ]
    },
    {
      "cell_type": "code",
      "execution_count": null,
      "metadata": {
        "id": "UBno73CpCXqr"
      },
      "outputs": [],
      "source": [
        "def co_occurances(files):\n",
        "    window = 4\n",
        "\n",
        "    # Using a ramp of window 4\n",
        "    ramp = [0] + [*range(window,0,-1)]     # ramp = [0,4,3,2,1]\n",
        "\n",
        "    occurances = defaultdict(lambda : Counter())\n",
        "\n",
        "    for file in files:\n",
        "        with open(file, 'r',encoding=\"utf-8\") as corpus:\n",
        "            for line in tqdm(corpus.readlines()):\n",
        "                all_grams = ngrams(word_tokenize(line), window+1, pad_right = True, pad_left = True)\n",
        "                for grams in all_grams:\n",
        "\n",
        "                    if grams[0] in vocab :\n",
        "                        for idx, gram in enumerate(grams):\n",
        "                            if gram in vocab:\n",
        "                                occurances[vocab_idx[grams[0]]][vocab_idx[gram]] += ramp[idx]\n",
        "\n",
        "                    # Doing the same as above with the gram reversed\n",
        "                    grams_rev = grams[::-1]\n",
        "\n",
        "                    if grams_rev[0] in vocab:\n",
        "                        for idx, gram in enumerate(grams_rev):\n",
        "                            if gram in vocab:\n",
        "                                occurances[vocab_idx[grams_rev[0]]][vocab_idx[gram]] += ramp[idx]\n",
        "\n",
        "    # Initializing a 0 matrix\n",
        "    mat = dok_matrix((len(vocab), len(vocab)), dtype=np.int64)\n",
        "\n",
        "    # Filling the matrix\n",
        "    for i in tqdm(range(len(vocab))):\n",
        "        for j in occurances[i].keys():\n",
        "            mat[i,j] = occurances[i][j]\n",
        "\n",
        "    # Converting to csr matrix\n",
        "    return mat.tocsr()"
      ]
    },
    {
      "cell_type": "code",
      "execution_count": null,
      "metadata": {
        "id": "kF1x_PzfCXqr",
        "outputId": "ab197e51-5b63-4604-9a05-8108ab5719f2"
      },
      "outputs": [
        {
          "name": "stderr",
          "output_type": "stream",
          "text": [
            "100%|██████████| 100000/100000 [01:03<00:00, 1585.98it/s]\n",
            "100%|██████████| 100000/100000 [00:07<00:00, 13400.52it/s]\n",
            "100%|██████████| 100000/100000 [00:06<00:00, 14884.44it/s]\n",
            "100%|██████████| 100000/100000 [01:59<00:00, 838.75it/s]\n",
            "100%|██████████| 100000/100000 [02:13<00:00, 751.17it/s]\n",
            "100%|██████████| 100000/100000 [00:55<00:00, 1805.16it/s]\n",
            "100%|██████████| 100000/100000 [00:59<00:00, 1675.42it/s]\n",
            "100%|██████████| 37824/37824 [00:25<00:00, 1472.27it/s]\n",
            "100%|██████████| 30779/30779 [05:30<00:00, 93.20it/s] \n"
          ]
        }
      ],
      "source": [
        "cocrmat = co_occurances(input_files)"
      ]
    },
    {
      "cell_type": "markdown",
      "metadata": {
        "id": "0_rYr-TE2-ta"
      },
      "source": [
        "#### 3. Building Word-embedding matrix\n",
        "\n",
        "We iterate through the non-zero entries of the co-occurance matrix and calculate the correlation as per the formula given in the COALS paper. We don't care about the 0 entries since it is going to give us negative correlation anyway."
      ]
    },
    {
      "cell_type": "code",
      "execution_count": null,
      "metadata": {
        "id": "kMqnqbn8CXqt",
        "outputId": "cc8f2018-65d5-49a7-a3cb-20861197dbf3"
      },
      "outputs": [
        {
          "name": "stderr",
          "output_type": "stream",
          "text": [
            "100%|██████████| 37017438/37017438 [25:53<00:00, 23823.59it/s] \n"
          ]
        }
      ],
      "source": [
        "def word_embedding(matrix):\n",
        "\n",
        "    # Storing total, row and column sums.\n",
        "    mat_tot = matrix.sum()\n",
        "    row_sums = matrix.sum(axis = 1).flatten()\n",
        "    col_sums = matrix.sum(axis = 0).flatten()\n",
        "\n",
        "    mat = dok_matrix((len(vocab), len(vocab)), dtype=np.float64)\n",
        "\n",
        "    # List of non-zero indices\n",
        "    indices = list(zip(*matrix.nonzero()))\n",
        "\n",
        "    for a,b in tqdm(indices):\n",
        "        sum_aj = row_sums[0,a]\n",
        "        sum_jb = col_sums[0,b]\n",
        "        num = mat_tot * matrix[a,b] - sum_aj * sum_jb\n",
        "        l1den = np.multiply(sum_aj,(mat_tot - sum_aj), dtype=np.float64)\n",
        "        l2den = np.multiply(sum_jb,(mat_tot - sum_jb), dtype=np.float64)\n",
        "        den = np.multiply(l1den,l2den,dtype=np.float64)     # Using np.multiply so that the value stays in limit\n",
        "        val = num / math.sqrt(float(den))\n",
        "        if val > 0:\n",
        "            mat[a,b] = math.sqrt(val)\n",
        "\n",
        "    return mat.tocsr()\n",
        "\n",
        "embmat = word_embedding(cocrmat)\n"
      ]
    },
    {
      "cell_type": "markdown",
      "metadata": {
        "id": "_HSihZE72-tb"
      },
      "source": [
        "#### 4. Finding Similar Words\n",
        "\n",
        "We find the k closest words to the selected word using the closest_words function which also returns the cosine distance between them."
      ]
    },
    {
      "cell_type": "code",
      "execution_count": null,
      "metadata": {
        "id": "pdFEkW-tCXqu"
      },
      "outputs": [],
      "source": [
        "def closest_words(x, k=5):\n",
        "    a1 = embmat[vocab_idx[x],:].toarray().flatten()\n",
        "\n",
        "    dists = [(i, cosine(a1, embmat[vocab_idx[i],:].toarray().flatten())) for i in tqdm(vocab)]\n",
        "\n",
        "    dists.sort(key= lambda x:x[1])\n",
        "\n",
        "    return dists[1:(k+1)]"
      ]
    },
    {
      "cell_type": "code",
      "execution_count": null,
      "metadata": {
        "id": "Pn5pYcCuCXqz",
        "outputId": "a772761f-a8bc-4ba6-f9ae-07bf0e01a084"
      },
      "outputs": [
        {
          "name": "stderr",
          "output_type": "stream",
          "text": [
            "100%|██████████| 30779/30779 [00:05<00:00, 5907.46it/s]\n"
          ]
        },
        {
          "data": {
            "text/plain": [
              "[('পিতা', 0.44295707035580256),\n",
              " ('মা', 0.4854277357770067),\n",
              " ('ভাই', 0.5082915026168331),\n",
              " ('বাবার', 0.5321733100172309),\n",
              " ('পুত্র', 0.5682259785339041)]"
            ]
          },
          "execution_count": 13,
          "metadata": {},
          "output_type": "execute_result"
        }
      ],
      "source": [
        "# An example\n",
        "\n",
        "closest_words('বাবা')"
      ]
    },
    {
      "cell_type": "markdown",
      "metadata": {
        "id": "WSzDwNBG2-tb"
      },
      "source": [
        "Selecting 5 nouns :"
      ]
    },
    {
      "cell_type": "code",
      "execution_count": null,
      "metadata": {
        "id": "cYwx9_aR2-tb"
      },
      "outputs": [],
      "source": [
        "nouns = ['বাবা', 'শর্ত', 'নিয়ম', 'শনিবার', 'রোহিত']"
      ]
    },
    {
      "cell_type": "markdown",
      "metadata": {
        "id": "2mW3h8yM2-tc"
      },
      "source": [
        "Calculating the list of similar words and their cosine distances for each noun :"
      ]
    },
    {
      "cell_type": "code",
      "execution_count": null,
      "metadata": {
        "id": "L5PKm-sR2-tc",
        "outputId": "7f98851c-2108-400a-b18d-86121ea301b9"
      },
      "outputs": [
        {
          "name": "stderr",
          "output_type": "stream",
          "text": [
            "100%|██████████| 30779/30779 [00:05<00:00, 5985.75it/s]\n",
            "100%|██████████| 30779/30779 [00:05<00:00, 6004.26it/s]\n",
            "100%|██████████| 30779/30779 [00:05<00:00, 6070.79it/s]\n",
            "100%|██████████| 30779/30779 [00:05<00:00, 5993.39it/s]\n",
            "100%|██████████| 30779/30779 [00:05<00:00, 6151.91it/s]\n"
          ]
        }
      ],
      "source": [
        "similar = []\n",
        "for w in nouns:\n",
        "    similar.append([(w,0)]+[(x,round(dist,2)) for x,dist in closest_words(w, k=5)])"
      ]
    },
    {
      "cell_type": "markdown",
      "metadata": {
        "id": "6yE8iI_F2-tc"
      },
      "source": [
        "Printing the similar words :"
      ]
    },
    {
      "cell_type": "code",
      "execution_count": null,
      "metadata": {
        "id": "LZfAeBZt2-tc",
        "outputId": "02e18ae5-20ef-47dc-f7b5-58f9ef96813c"
      },
      "outputs": [
        {
          "name": "stdout",
          "output_type": "stream",
          "text": [
            "Top 5 similar words : \n",
            "\n",
            "বাবা : ('পিতা', 0.44), ('মা', 0.49), ('ভাই', 0.51), ('বাবার', 0.53), ('পুত্র', 0.57)\n",
            "শর্ত : ('শর্তাবলী', 0.71), ('নিয়ম', 0.73), ('প্রতিশ্রুতি', 0.73), ('অনুমতি', 0.74), ('নীতি', 0.75)\n",
            "নিয়ম : ('নীতি', 0.66), ('নিয়মের', 0.66), ('বিধি', 0.67), ('মেনে', 0.71), ('ভিত্তি', 0.71)\n",
            "শনিবার : ('বৃহস্পতিবার', 0.47), ('সোমবার', 0.48), ('শুক্রবার', 0.48), ('মঙ্গলবার', 0.48), ('বুধবার', 0.49)\n",
            "রোহিত : ('শর্মা', 0.74), ('শিল্পা', 0.74), ('সুনীল', 0.76), ('রাহুল', 0.78), ('সঞ্জয়', 0.78)\n"
          ]
        }
      ],
      "source": [
        "print(\"Top 5 similar words : \\n\")\n",
        "\n",
        "for words in similar:\n",
        "    print(f\"{words[0][0]} : {words[1]}, {words[2]}, {words[3]}, {words[4]}, {words[5]}\")"
      ]
    },
    {
      "cell_type": "markdown",
      "metadata": {
        "id": "2A3ThJOL2-tc"
      },
      "source": [
        "#### 5. Visualization of the similar words\n",
        "\n",
        "From the list of closest words, we choose the word 'বাবা' for visualization since it looks like it has a good set of similar words.\n",
        "\n",
        "I give 2 different ways of visualization, one is with the word vector of the original word embedding matrix after normalization of the 1st 200 elements and the other is decomposing the matrix via SVD to a 200 column matrix and then using the same steps. It is giving better results with the SVD decomposed matrix as shown."
      ]
    },
    {
      "cell_type": "code",
      "execution_count": null,
      "metadata": {
        "id": "UetXJCTuCXq1"
      },
      "outputs": [],
      "source": [
        "def svd_reduce(matrix, num_components):\n",
        "\n",
        "    U, S, VT = svds(matrix, k = num_components)\n",
        "\n",
        "    return U\n",
        "\n",
        "reduced_wordvec = svd_reduce(embmat, 200)"
      ]
    },
    {
      "cell_type": "markdown",
      "source": [
        "This reduced_wordvec can be also considered as the word embedding matrix, with dense word vectors, so that the dimensionality is reduced to 200."
      ],
      "metadata": {
        "id": "A3f-Ni69tv3L"
      }
    },
    {
      "cell_type": "markdown",
      "metadata": {
        "id": "UnySV8Sv2-tc"
      },
      "source": [
        "Using the original matrix :"
      ]
    },
    {
      "cell_type": "code",
      "execution_count": null,
      "metadata": {
        "id": "bDch9FTdCXq2",
        "outputId": "5e2a9124-ac9e-49a0-ff01-847b38ffed88"
      },
      "outputs": [
        {
          "data": {
            "image/png": "[encoded data removed]",
            "text/plain": [
              "<Figure size 2000x300 with 6 Axes>"
            ]
          },
          "metadata": {},
          "output_type": "display_data"
        }
      ],
      "source": [
        "# similar[0] is the word list we want.\n",
        "\n",
        "vector_list = []\n",
        "\n",
        "for word,_ in similar[0]:\n",
        "    vector = embmat[vocab_idx[word],:200].toarray().flatten()\n",
        "    # Normalizing here\n",
        "    vector = (vector - np.min(vector)) / (np.max(vector) - np.min(vector)) * 255\n",
        "    vector_list.append(vector)\n",
        "\n",
        "# print(vector_list)\n",
        "\n",
        "fig, ax = plt.subplots(6,1, figsize = (20,3))\n",
        "prop = fm.FontProperties(fname = 'kalpurush.ttf')\n",
        "\n",
        "for i in range(6):\n",
        "    vector_data = vector_list[i].reshape(1, -1)\n",
        "    ax[i].imshow(vector_data, cmap='gray', extent=[0, 200, -1, 1])\n",
        "    ax[i].text(-1, 0.1, f\"{similar[0][i][0]}\", va='center', ha='right', fontproperties=prop)\n",
        "    ax[i].axis('off')\n",
        "\n",
        "plt.show()"
      ]
    },
    {
      "cell_type": "markdown",
      "metadata": {
        "id": "znABrlO52-td"
      },
      "source": [
        "Using the SVD decomposed matrix :"
      ]
    },
    {
      "cell_type": "code",
      "execution_count": null,
      "metadata": {
        "id": "O0XYAbGu2-td",
        "outputId": "4f4ad723-788c-44f8-af77-cf70e7b3c543"
      },
      "outputs": [
        {
          "data": {
            "image/png": "[encoded data removed]",
            "text/plain": [
              "<Figure size 2000x300 with 6 Axes>"
            ]
          },
          "metadata": {},
          "output_type": "display_data"
        }
      ],
      "source": [
        "vector_list = []\n",
        "\n",
        "for word,_ in similar[0]:\n",
        "    vector = reduced_wordvec[vocab_idx[word]]\n",
        "    # Normalizing here\n",
        "    vector = (vector - np.min(vector)) / (np.max(vector) - np.min(vector)) * 255\n",
        "    vector_list.append(vector)\n",
        "\n",
        "fig, ax = plt.subplots(6,1, figsize = (20,3))\n",
        "\n",
        "for i in range(6):\n",
        "    vector_data = vector_list[i].reshape(1, -1)\n",
        "    ax[i].imshow(vector_data, cmap='gray', extent=[0, 200, -1, 1])\n",
        "    ax[i].text(-1, 0.1, f\"{similar[0][i][0]}\", va='center', ha='right', fontproperties=prop)\n",
        "    ax[i].axis('off')\n",
        "\n",
        "plt.show()"
      ]
    }
  ],
  "metadata": {
    "colab": {
      "provenance": []
    },
    "kernelspec": {
      "display_name": "Python 3",
      "language": "python",
      "name": "python3"
    },
    "language_info": {
      "codemirror_mode": {
        "name": "ipython",
        "version": 3
      },
      "file_extension": ".py",
      "mimetype": "text/x-python",
      "name": "python",
      "nbconvert_exporter": "python",
      "pygments_lexer": "ipython3",
      "version": "3.11.6"
    },
    "orig_nbformat": 4
  },
  "nbformat": 4,
  "nbformat_minor": 0
}