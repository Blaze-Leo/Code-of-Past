{
 "cells": [
  {
   "cell_type": "code",
   "execution_count": 4,
   "metadata": {},
   "outputs": [
    {
     "ename": "ModuleNotFoundError",
     "evalue": "No module named 'stock'",
     "output_type": "error",
     "traceback": [
      "\u001b[0;31m---------------------------------------------------------------------------\u001b[0m",
      "\u001b[0;31mModuleNotFoundError\u001b[0m                       Traceback (most recent call last)",
      "Cell \u001b[0;32mIn[4], line 2\u001b[0m\n\u001b[1;32m      1\u001b[0m \u001b[38;5;28;01mfrom\u001b[39;00m \u001b[38;5;21;01mstock_analyzer\u001b[39;00m\u001b[38;5;21;01m.\u001b[39;00m\u001b[38;5;21;01mstock\u001b[39;00m \u001b[38;5;28;01mimport\u001b[39;00m stock\n\u001b[0;32m----> 2\u001b[0m \u001b[38;5;28;01mfrom\u001b[39;00m \u001b[38;5;21;01mstock_analyzer\u001b[39;00m\u001b[38;5;21;01m.\u001b[39;00m\u001b[38;5;21;01mquant\u001b[39;00m \u001b[38;5;28;01mimport\u001b[39;00m quant\n\u001b[1;32m      6\u001b[0m \u001b[38;5;28;01mif\u001b[39;00m \u001b[38;5;18m__name__\u001b[39m \u001b[38;5;241m==\u001b[39m \u001b[38;5;124m'\u001b[39m\u001b[38;5;124m__main__\u001b[39m\u001b[38;5;124m'\u001b[39m:\n\u001b[1;32m      7\u001b[0m     q \u001b[38;5;241m=\u001b[39m quant(\n\u001b[1;32m      8\u001b[0m         \u001b[38;5;124m\"\u001b[39m\u001b[38;5;124m/mnt/Personal/Projects/Python/APRG/AnuragBMC202309_Assignment03/INFY.NS.csv\u001b[39m\u001b[38;5;124m\"\u001b[39m)\n",
      "File \u001b[0;32m/mnt/Personal/Projects/Python/APRG/AnuragBMC202309_Assignment03/stock_analyzer/quant.py:7\u001b[0m\n\u001b[1;32m      1\u001b[0m \u001b[38;5;124;03m'''\u001b[39;00m\n\u001b[1;32m      2\u001b[0m \u001b[38;5;124;03mFilename: stock_analyzer/quant.py\u001b[39;00m\n\u001b[1;32m      3\u001b[0m \u001b[38;5;124;03mCreated Date: Wednesday , March 13th 2024, 5:25:58 am\u001b[39;00m\n\u001b[1;32m      4\u001b[0m \u001b[38;5;124;03mAuthor: Anurag Gupta and BMC202309\u001b[39;00m\n\u001b[1;32m      5\u001b[0m \u001b[38;5;124;03m'''\u001b[39;00m\n\u001b[0;32m----> 7\u001b[0m \u001b[38;5;28;01mfrom\u001b[39;00m \u001b[38;5;21;01mstock\u001b[39;00m \u001b[38;5;28;01mimport\u001b[39;00m stock\n\u001b[1;32m      9\u001b[0m \u001b[38;5;28;01mclass\u001b[39;00m \u001b[38;5;21;01mquant\u001b[39;00m():\n\u001b[1;32m     10\u001b[0m     \u001b[38;5;28;01mdef\u001b[39;00m \u001b[38;5;21m__init__\u001b[39m(\u001b[38;5;28mself\u001b[39m, filename):\n\u001b[1;32m     11\u001b[0m         \u001b[38;5;66;03m#define the original list to store stock objects\u001b[39;00m\n",
      "\u001b[0;31mModuleNotFoundError\u001b[0m: No module named 'stock'"
     ]
    }
   ],
   "source": [
    "from stock_analyzer.stock import stock\n",
    "from stock_analyzer.quant import quant\n",
    "\n",
    "\n",
    "\n",
    "if __name__ == '__main__':\n",
    "    q = quant(\n",
    "        \"/mnt/Personal/Projects/Python/APRG/AnuragBMC202309_Assignment03/INFY.NS.csv\")\n",
    "    #check for date order\n",
    "    q.sort_by('date','des')\n",
    "    q.pprint_sorted_data()\n",
    "    print(\"\\n\\n\")\n",
    "    #check for volume order\n",
    "    q.sort_by('volume','des')\n",
    "    q.pprint_sorted_data()\n",
    "    print(\"\\n\\n\")\n",
    "    #print the yearly  extremes\n",
    "    q.pprint_yearly_extremes()"
   ]
  }
 ],
 "metadata": {
  "kernelspec": {
   "display_name": "Python 3",
   "language": "python",
   "name": "python3"
  },
  "language_info": {
   "codemirror_mode": {
    "name": "ipython",
    "version": 3
   },
   "file_extension": ".py",
   "mimetype": "text/x-python",
   "name": "python",
   "nbconvert_exporter": "python",
   "pygments_lexer": "ipython3",
   "version": "3.11.6"
  }
 },
 "nbformat": 4,
 "nbformat_minor": 2
}
